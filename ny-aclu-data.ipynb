{
 "cells": [
  {
   "cell_type": "code",
   "execution_count": 1,
   "metadata": {},
   "outputs": [],
   "source": [
    "import pandas as pd"
   ]
  },
  {
   "cell_type": "code",
   "execution_count": 2,
   "metadata": {},
   "outputs": [],
   "source": [
    "import pandas as pd\n",
    "\n",
    "import numpy as np\n",
    "from numpy import exp, log\n",
    "\n",
    "import seaborn as sns\n",
    "import matplotlib.pyplot as plt\n",
    "%matplotlib inline\n",
    "plt.ioff()\n",
    "sns.set()\n",
    "\n",
    "from functools import partial"
   ]
  },
  {
   "cell_type": "code",
   "execution_count": 3,
   "metadata": {},
   "outputs": [],
   "source": [
    "df = pd.read_excel('CCRB_database_raw.xlsx')"
   ]
  },
  {
   "cell_type": "code",
   "execution_count": 4,
   "metadata": {},
   "outputs": [
    {
     "name": "stdout",
     "output_type": "stream",
     "text": [
      "<class 'pandas.core.frame.DataFrame'>\n",
      "RangeIndex: 323911 entries, 0 to 323910\n",
      "Data columns (total 14 columns):\n",
      " #   Column             Non-Null Count   Dtype         \n",
      "---  ------             --------------   -----         \n",
      " 0   AsOfDate           323911 non-null  datetime64[ns]\n",
      " 1   Unique Id          323911 non-null  int64         \n",
      " 2   First Name         323906 non-null  object        \n",
      " 3   Last Name          323911 non-null  object        \n",
      " 4   Rank               323911 non-null  object        \n",
      " 5   Command            323911 non-null  object        \n",
      " 6   ShieldNo           323855 non-null  float64       \n",
      " 7   Complaint Id       290649 non-null  float64       \n",
      " 8   Incident Date      270418 non-null  datetime64[ns]\n",
      " 9   FADO Type          290649 non-null  object        \n",
      " 10  Allegation         290228 non-null  object        \n",
      " 11  Board Disposition  290649 non-null  object        \n",
      " 12  NYPDDisposition    11464 non-null   object        \n",
      " 13  PenaltyDesc        9992 non-null    object        \n",
      "dtypes: datetime64[ns](2), float64(2), int64(1), object(9)\n",
      "memory usage: 34.6+ MB\n"
     ]
    }
   ],
   "source": [
    "df.info()"
   ]
  },
  {
   "cell_type": "code",
   "execution_count": 5,
   "metadata": {},
   "outputs": [
    {
     "data": {
      "text/html": [
       "<div>\n",
       "<style scoped>\n",
       "    .dataframe tbody tr th:only-of-type {\n",
       "        vertical-align: middle;\n",
       "    }\n",
       "\n",
       "    .dataframe tbody tr th {\n",
       "        vertical-align: top;\n",
       "    }\n",
       "\n",
       "    .dataframe thead th {\n",
       "        text-align: right;\n",
       "    }\n",
       "</style>\n",
       "<table border=\"1\" class=\"dataframe\">\n",
       "  <thead>\n",
       "    <tr style=\"text-align: right;\">\n",
       "      <th></th>\n",
       "      <th>Unique Id</th>\n",
       "      <th>ShieldNo</th>\n",
       "      <th>Complaint Id</th>\n",
       "    </tr>\n",
       "  </thead>\n",
       "  <tbody>\n",
       "    <tr>\n",
       "      <th>count</th>\n",
       "      <td>323911.000000</td>\n",
       "      <td>323855.000000</td>\n",
       "      <td>2.906490e+05</td>\n",
       "    </tr>\n",
       "    <tr>\n",
       "      <th>mean</th>\n",
       "      <td>39220.746721</td>\n",
       "      <td>8393.289228</td>\n",
       "      <td>1.263439e+08</td>\n",
       "    </tr>\n",
       "    <tr>\n",
       "      <th>std</th>\n",
       "      <td>22824.135790</td>\n",
       "      <td>9262.194906</td>\n",
       "      <td>9.356904e+07</td>\n",
       "    </tr>\n",
       "    <tr>\n",
       "      <th>min</th>\n",
       "      <td>1.000000</td>\n",
       "      <td>0.000000</td>\n",
       "      <td>6.278008e+06</td>\n",
       "    </tr>\n",
       "    <tr>\n",
       "      <th>25%</th>\n",
       "      <td>19168.000000</td>\n",
       "      <td>1620.000000</td>\n",
       "      <td>9.404761e+06</td>\n",
       "    </tr>\n",
       "    <tr>\n",
       "      <th>50%</th>\n",
       "      <td>39457.000000</td>\n",
       "      <td>4667.000000</td>\n",
       "      <td>2.004009e+08</td>\n",
       "    </tr>\n",
       "    <tr>\n",
       "      <th>75%</th>\n",
       "      <td>56169.000000</td>\n",
       "      <td>13053.000000</td>\n",
       "      <td>2.011027e+08</td>\n",
       "    </tr>\n",
       "    <tr>\n",
       "      <th>max</th>\n",
       "      <td>81550.000000</td>\n",
       "      <td>93187.000000</td>\n",
       "      <td>2.020037e+08</td>\n",
       "    </tr>\n",
       "  </tbody>\n",
       "</table>\n",
       "</div>"
      ],
      "text/plain": [
       "           Unique Id       ShieldNo  Complaint Id\n",
       "count  323911.000000  323855.000000  2.906490e+05\n",
       "mean    39220.746721    8393.289228  1.263439e+08\n",
       "std     22824.135790    9262.194906  9.356904e+07\n",
       "min         1.000000       0.000000  6.278008e+06\n",
       "25%     19168.000000    1620.000000  9.404761e+06\n",
       "50%     39457.000000    4667.000000  2.004009e+08\n",
       "75%     56169.000000   13053.000000  2.011027e+08\n",
       "max     81550.000000   93187.000000  2.020037e+08"
      ]
     },
     "execution_count": 5,
     "metadata": {},
     "output_type": "execute_result"
    }
   ],
   "source": [
    "df.describe()"
   ]
  },
  {
   "cell_type": "code",
   "execution_count": 6,
   "metadata": {},
   "outputs": [
    {
     "data": {
      "text/html": [
       "<div>\n",
       "<style scoped>\n",
       "    .dataframe tbody tr th:only-of-type {\n",
       "        vertical-align: middle;\n",
       "    }\n",
       "\n",
       "    .dataframe tbody tr th {\n",
       "        vertical-align: top;\n",
       "    }\n",
       "\n",
       "    .dataframe thead th {\n",
       "        text-align: right;\n",
       "    }\n",
       "</style>\n",
       "<table border=\"1\" class=\"dataframe\">\n",
       "  <thead>\n",
       "    <tr style=\"text-align: right;\">\n",
       "      <th></th>\n",
       "      <th>AsOfDate</th>\n",
       "      <th>Unique Id</th>\n",
       "      <th>First Name</th>\n",
       "      <th>Last Name</th>\n",
       "      <th>Rank</th>\n",
       "      <th>Command</th>\n",
       "      <th>ShieldNo</th>\n",
       "      <th>Complaint Id</th>\n",
       "      <th>Incident Date</th>\n",
       "      <th>FADO Type</th>\n",
       "      <th>Allegation</th>\n",
       "      <th>Board Disposition</th>\n",
       "      <th>NYPDDisposition</th>\n",
       "      <th>PenaltyDesc</th>\n",
       "    </tr>\n",
       "  </thead>\n",
       "  <tbody>\n",
       "    <tr>\n",
       "      <th>0</th>\n",
       "      <td>2020-07-14</td>\n",
       "      <td>43921</td>\n",
       "      <td>Richard</td>\n",
       "      <td>Aalbue</td>\n",
       "      <td>POM</td>\n",
       "      <td>H BKLYN</td>\n",
       "      <td>3619.0</td>\n",
       "      <td>6290465.0</td>\n",
       "      <td>NaT</td>\n",
       "      <td>Force</td>\n",
       "      <td>Force</td>\n",
       "      <td>Unsubstantiated</td>\n",
       "      <td>NaN</td>\n",
       "      <td>NaN</td>\n",
       "    </tr>\n",
       "    <tr>\n",
       "      <th>1</th>\n",
       "      <td>2020-07-14</td>\n",
       "      <td>52580</td>\n",
       "      <td>Walter</td>\n",
       "      <td>Aanonsen</td>\n",
       "      <td>LT</td>\n",
       "      <td>MOUNTED</td>\n",
       "      <td>0.0</td>\n",
       "      <td>8300607.0</td>\n",
       "      <td>NaT</td>\n",
       "      <td>Force</td>\n",
       "      <td>Force</td>\n",
       "      <td>Complainant Unavailable</td>\n",
       "      <td>NaN</td>\n",
       "      <td>NaN</td>\n",
       "    </tr>\n",
       "    <tr>\n",
       "      <th>2</th>\n",
       "      <td>2020-07-14</td>\n",
       "      <td>52580</td>\n",
       "      <td>Walter</td>\n",
       "      <td>Aanonsen</td>\n",
       "      <td>LT</td>\n",
       "      <td>MOUNTED</td>\n",
       "      <td>0.0</td>\n",
       "      <td>8800504.0</td>\n",
       "      <td>1988-02-15</td>\n",
       "      <td>Force</td>\n",
       "      <td>Beat</td>\n",
       "      <td>Unsubstantiated</td>\n",
       "      <td>NaN</td>\n",
       "      <td>NaN</td>\n",
       "    </tr>\n",
       "    <tr>\n",
       "      <th>3</th>\n",
       "      <td>2020-07-14</td>\n",
       "      <td>52580</td>\n",
       "      <td>Walter</td>\n",
       "      <td>Aanonsen</td>\n",
       "      <td>LT</td>\n",
       "      <td>MOUNTED</td>\n",
       "      <td>0.0</td>\n",
       "      <td>9201176.0</td>\n",
       "      <td>1992-04-02</td>\n",
       "      <td>Abuse of Authority</td>\n",
       "      <td>Vehicle Searched</td>\n",
       "      <td>Unsubstantiated</td>\n",
       "      <td>NaN</td>\n",
       "      <td>NaN</td>\n",
       "    </tr>\n",
       "    <tr>\n",
       "      <th>4</th>\n",
       "      <td>2020-07-14</td>\n",
       "      <td>52580</td>\n",
       "      <td>Walter</td>\n",
       "      <td>Aanonsen</td>\n",
       "      <td>LT</td>\n",
       "      <td>MOUNTED</td>\n",
       "      <td>0.0</td>\n",
       "      <td>9201176.0</td>\n",
       "      <td>1992-04-02</td>\n",
       "      <td>Discourtesy</td>\n",
       "      <td>Nasty Words</td>\n",
       "      <td>Unsubstantiated</td>\n",
       "      <td>NaN</td>\n",
       "      <td>NaN</td>\n",
       "    </tr>\n",
       "  </tbody>\n",
       "</table>\n",
       "</div>"
      ],
      "text/plain": [
       "    AsOfDate  Unique Id First Name Last Name Rank  Command  ShieldNo  \\\n",
       "0 2020-07-14      43921    Richard    Aalbue  POM  H BKLYN    3619.0   \n",
       "1 2020-07-14      52580     Walter  Aanonsen   LT  MOUNTED       0.0   \n",
       "2 2020-07-14      52580     Walter  Aanonsen   LT  MOUNTED       0.0   \n",
       "3 2020-07-14      52580     Walter  Aanonsen   LT  MOUNTED       0.0   \n",
       "4 2020-07-14      52580     Walter  Aanonsen   LT  MOUNTED       0.0   \n",
       "\n",
       "   Complaint Id Incident Date           FADO Type        Allegation  \\\n",
       "0     6290465.0           NaT               Force             Force   \n",
       "1     8300607.0           NaT               Force             Force   \n",
       "2     8800504.0    1988-02-15               Force              Beat   \n",
       "3     9201176.0    1992-04-02  Abuse of Authority  Vehicle Searched   \n",
       "4     9201176.0    1992-04-02         Discourtesy       Nasty Words   \n",
       "\n",
       "         Board Disposition NYPDDisposition PenaltyDesc  \n",
       "0          Unsubstantiated             NaN         NaN  \n",
       "1  Complainant Unavailable             NaN         NaN  \n",
       "2          Unsubstantiated             NaN         NaN  \n",
       "3          Unsubstantiated             NaN         NaN  \n",
       "4          Unsubstantiated             NaN         NaN  "
      ]
     },
     "execution_count": 6,
     "metadata": {},
     "output_type": "execute_result"
    }
   ],
   "source": [
    "df.head()"
   ]
  },
  {
   "cell_type": "code",
   "execution_count": 7,
   "metadata": {},
   "outputs": [
    {
     "data": {
      "text/plain": [
       "323911"
      ]
     },
     "execution_count": 7,
     "metadata": {},
     "output_type": "execute_result"
    }
   ],
   "source": [
    "len(df)"
   ]
  },
  {
   "cell_type": "markdown",
   "metadata": {},
   "source": [
    "# 0. Formatting"
   ]
  },
  {
   "cell_type": "code",
   "execution_count": 8,
   "metadata": {},
   "outputs": [],
   "source": [
    "df.rename(lambda col : col.lower().replace(' ', '_'), axis = 'columns', inplace = True)"
   ]
  },
  {
   "cell_type": "code",
   "execution_count": 9,
   "metadata": {},
   "outputs": [],
   "source": [
    "counts = df.groupby('unique_id').apply(lambda df : len(df.complaint_id.unique()))"
   ]
  },
  {
   "cell_type": "markdown",
   "metadata": {},
   "source": [
    "## Graph"
   ]
  },
  {
   "cell_type": "code",
   "execution_count": 10,
   "metadata": {},
   "outputs": [
    {
     "data": {
      "image/png": "[encoded data removed]",
      "text/plain": [
       "<Figure size 432x288 with 1 Axes>"
      ]
     },
     "metadata": {},
     "output_type": "display_data"
    }
   ],
   "source": [
    "x_max = max(counts) + 1 + 2\n",
    "bins = range(x_max)\n",
    "fig, ax = plt.subplots()\n",
    "sns.distplot(counts, norm_hist = False, kde = False, bins = bins, ax = ax, hist_kws = {'alpha' : 0.5, 'label' : 'Data'})\n",
    "ax.set_xlabel('Number of Complaints')\n",
    "ax.set_ylabel('Frequency')\n",
    "ax.set_title('Frequency of Complaints')\n",
    "\n",
    "plt.show()"
   ]
  },
  {
   "cell_type": "markdown",
   "metadata": {},
   "source": [
    "# 1. Zero-Truncated Poisson and Pareto"
   ]
  },
  {
   "cell_type": "code",
   "execution_count": 11,
   "metadata": {},
   "outputs": [
    {
     "data": {
      "image/png": "[encoded data removed]",
      "text/plain": [
       "<Figure size 432x288 with 1 Axes>"
      ]
     },
     "metadata": {},
     "output_type": "display_data"
    },
    {
     "name": "stdout",
     "output_type": "stream",
     "text": [
      "Log Likelihood: -2.003\n"
     ]
    }
   ],
   "source": [
    "from models.zero_truncated_poisson import ZeroTruncatedPoisson\n",
    "\n",
    "model = ZeroTruncatedPoisson()\n",
    "model.fit(counts)\n",
    "\n",
    "from graphing import graph_dists\n",
    "\n",
    "x_max = max(counts) + 3\n",
    "xs, ys = model.plot(max_count = x_max, include_zero = True, normalize = True)\n",
    "\n",
    "fig, ax = graph_dists(counts, x_max, xs, ys)\n",
    "# It's pretty apparent that the model does not fit the data\n",
    "\n",
    "plt.show()\n",
    "print(f'Log Likelihood: {model.log_likelihood():.3f}')\n",
    "\n",
    "# Compute the Distributions to get the KL-Div\n",
    "\n",
    "from scipy.special import rel_entr as kl_div\n",
    "\n",
    "pdfs = counts.value_counts(normalize = True).reset_index().rename({\n",
    "  'index'         : 'k',\n",
    "  'unique_mos_id' : 'empirical',\n",
    "}, axis = 'columns').sort_values('k')\n",
    "\n",
    "pdfs['zt_poisson'] = pdfs.k.map(model.pmf)"
   ]
  },
  {
   "cell_type": "code",
   "execution_count": 12,
   "metadata": {},
   "outputs": [
    {
     "name": "stderr",
     "output_type": "stream",
     "text": [
      "/Users/rcharan/anaconda3/envs/synovium/lib/python3.7/site-packages/scipy/stats/_distn_infrastructure.py:2407: RuntimeWarning: invalid value encountered in double_scalars\n",
      "  Lhat = muhat - Shat*mu\n"
     ]
    },
    {
     "data": {
      "image/png": "[encoded data removed]",
      "text/plain": [
       "<Figure size 432x288 with 1 Axes>"
      ]
     },
     "metadata": {},
     "output_type": "display_data"
    },
    {
     "name": "stdout",
     "output_type": "stream",
     "text": [
      "Log Likelihood: -1.550\n"
     ]
    }
   ],
   "source": [
    "from scipy.stats import pareto\n",
    "\n",
    "b, loc, scale = pareto.fit(counts, floc = 0)\n",
    "model = pareto(b, loc, scale)\n",
    "b\n",
    "\n",
    "x_max = max(counts) + 1 + 2\n",
    "\n",
    "xs = np.arange(1, x_max)\n",
    "ys = model.pdf(xs)\n",
    "\n",
    "fig, ax = graph_dists(counts, x_max, xs, ys)\n",
    "\n",
    "plt.show()\n",
    "\n",
    "def logpmf(model, k):\n",
    "  return log(model.cdf(k+1) - model.cdf(k))\n",
    "\n",
    "pareto_logpmf = partial(logpmf, model)\n",
    "log_likelihood = counts.map(pareto_logpmf).mean()\n",
    "\n",
    "print(f'Log Likelihood: {log_likelihood:.3f}')\n",
    "\n",
    "pdfs['pareto'] = pdfs.k.map(lambda k : exp(pareto_logpmf(k)))"
   ]
  },
  {
   "cell_type": "markdown",
   "metadata": {},
   "source": [
    "# 2. Negative Binomial"
   ]
  },
  {
   "cell_type": "code",
   "execution_count": 13,
   "metadata": {},
   "outputs": [],
   "source": [
    "from scipy.stats import nbinom\n",
    "from statsmodels.base.model import GenericLikelihoodModel\n",
    "from scipy.optimize import minimize"
   ]
  },
  {
   "cell_type": "code",
   "execution_count": 14,
   "metadata": {},
   "outputs": [],
   "source": [
    "def log_likelihood_nbinom(counts, r, p, loc):\n",
    "  model = nbinom(r, p, loc = loc)\n",
    "  log_likelihood = model.logpmf(counts)\n",
    "  return -log_likelihood.sum()"
   ]
  },
  {
   "cell_type": "code",
   "execution_count": 15,
   "metadata": {},
   "outputs": [],
   "source": [
    "log_likelihood = lambda params : log_likelihood_nbinom(counts, *params, 1)"
   ]
  },
  {
   "cell_type": "code",
   "execution_count": 16,
   "metadata": {},
   "outputs": [
    {
     "data": {
      "text/plain": [
       "count    81550.000000\n",
       "mean         2.287652\n",
       "std          2.544950\n",
       "min          1.000000\n",
       "25%          1.000000\n",
       "50%          1.000000\n",
       "75%          3.000000\n",
       "max         41.000000\n",
       "dtype: float64"
      ]
     },
     "execution_count": 16,
     "metadata": {},
     "output_type": "execute_result"
    }
   ],
   "source": [
    "counts.describe()"
   ]
  },
  {
   "cell_type": "code",
   "execution_count": 17,
   "metadata": {},
   "outputs": [
    {
     "name": "stdout",
     "output_type": "stream",
     "text": [
      "1.2492720247196636 0.6467913630004483\n"
     ]
    }
   ],
   "source": [
    "# guess with method of moments. But this doesn't work\n",
    "e_x = counts.mean()\n",
    "v_x = counts.var()\n",
    "\n",
    "r = e_x ** 2 / (v_x - e_x)\n",
    "p = 1 - e_x / v_x\n",
    "print(r, p)"
   ]
  },
  {
   "cell_type": "code",
   "execution_count": 18,
   "metadata": {},
   "outputs": [
    {
     "data": {
      "text/plain": [
       " final_simplex: (array([[0.28874276, 0.18316445],\n",
       "       [0.28871538, 0.18315944],\n",
       "       [0.28870858, 0.1831373 ]]), array([118178.06390264, 118178.06393071, 118178.0639874 ]))\n",
       "           fun: 118178.06390263616\n",
       "       message: 'Optimization terminated successfully.'\n",
       "          nfev: 50\n",
       "           nit: 26\n",
       "        status: 0\n",
       "       success: True\n",
       "             x: array([0.28874276, 0.18316445])"
      ]
     },
     "execution_count": 18,
     "metadata": {},
     "output_type": "execute_result"
    }
   ],
   "source": [
    "guess = np.array([0.3, 0.2])\n",
    "result = minimize(log_likelihood, guess, method = 'Nelder-Mead')\n",
    "\n",
    "result"
   ]
  },
  {
   "cell_type": "code",
   "execution_count": 19,
   "metadata": {},
   "outputs": [
    {
     "data": {
      "image/png": "[encoded data removed]",
      "text/plain": [
       "<Figure size 432x288 with 1 Axes>"
      ]
     },
     "metadata": {},
     "output_type": "display_data"
    },
    {
     "name": "stdout",
     "output_type": "stream",
     "text": [
      "Log Likelihood: -1.449\n"
     ]
    }
   ],
   "source": [
    "r, p = result.x\n",
    "model = nbinom(r, p, loc = 1)\n",
    "x_max = max(counts) + 1 + 2\n",
    "bins = range(x_max)\n",
    "fig, ax = plt.subplots()\n",
    "sns.distplot(counts, norm_hist = True, kde = False, bins = bins, ax = ax, hist_kws = {'alpha' : 0.5, 'label' : 'Data'})\n",
    "ax.set_xlabel('Number of Complaints')\n",
    "ax.set_ylabel('Frequency')\n",
    "ax.set_title('Frequency of Complaints')\n",
    "\n",
    "xs = np.arange(1, x_max)\n",
    "ys = model.pmf(xs)\n",
    "\n",
    "ax.bar(xs + 0.5, ys, color = 'red', alpha = 0.2, label = 'Fit')\n",
    "ax.legend();\n",
    "\n",
    "plt.show()\n",
    "\n",
    "log_likelihood = counts.map(model.logpmf).mean()\n",
    "print(f'Log Likelihood: {log_likelihood:.3f}')"
   ]
  },
  {
   "cell_type": "code",
   "execution_count": 20,
   "metadata": {},
   "outputs": [],
   "source": [
    "pdfs['nbinom'] = pdfs.k.map(model.pmf)"
   ]
  },
  {
   "cell_type": "markdown",
   "metadata": {},
   "source": [
    "# 2. Empirical PDF Log Likelihood"
   ]
  },
  {
   "cell_type": "code",
   "execution_count": 21,
   "metadata": {},
   "outputs": [
    {
     "data": {
      "text/plain": [
       "-7.210147950700328"
      ]
     },
     "execution_count": 21,
     "metadata": {},
     "output_type": "execute_result"
    }
   ],
   "source": [
    "log_likelihood = counts.reset_index().merge(\n",
    "  counts.value_counts(normalize = True).rename('pmf'),\n",
    "  left_on = 'unique_id',\n",
    "  right_index = True,\n",
    "  validate = 'm:1'\n",
    ")\n",
    "log_pmf = log(log_likelihood.pmf)\n",
    "\n",
    "log_pmf.mean()"
   ]
  },
  {
   "cell_type": "markdown",
   "metadata": {},
   "source": [
    "# 3. KL–Div"
   ]
  },
  {
   "cell_type": "code",
   "execution_count": 22,
   "metadata": {},
   "outputs": [],
   "source": [
    "from scipy.special import rel_entr as kl_div"
   ]
  },
  {
   "cell_type": "code",
   "execution_count": 23,
   "metadata": {},
   "outputs": [
    {
     "data": {
      "text/html": [
       "<div>\n",
       "<style scoped>\n",
       "    .dataframe tbody tr th:only-of-type {\n",
       "        vertical-align: middle;\n",
       "    }\n",
       "\n",
       "    .dataframe tbody tr th {\n",
       "        vertical-align: top;\n",
       "    }\n",
       "\n",
       "    .dataframe thead th {\n",
       "        text-align: right;\n",
       "    }\n",
       "</style>\n",
       "<table border=\"1\" class=\"dataframe\">\n",
       "  <thead>\n",
       "    <tr style=\"text-align: right;\">\n",
       "      <th></th>\n",
       "      <th>k</th>\n",
       "      <th>0</th>\n",
       "      <th>zt_poisson</th>\n",
       "      <th>pareto</th>\n",
       "      <th>nbinom</th>\n",
       "    </tr>\n",
       "  </thead>\n",
       "  <tbody>\n",
       "    <tr>\n",
       "      <th>0</th>\n",
       "      <td>1</td>\n",
       "      <td>0.616885</td>\n",
       "      <td>3.196741e-01</td>\n",
       "      <td>0.753830</td>\n",
       "      <td>0.612563</td>\n",
       "    </tr>\n",
       "    <tr>\n",
       "      <th>1</th>\n",
       "      <td>2</td>\n",
       "      <td>0.126205</td>\n",
       "      <td>3.145562e-01</td>\n",
       "      <td>0.137745</td>\n",
       "      <td>0.144476</td>\n",
       "    </tr>\n",
       "    <tr>\n",
       "      <th>2</th>\n",
       "      <td>3</td>\n",
       "      <td>0.079044</td>\n",
       "      <td>2.063468e-01</td>\n",
       "      <td>0.047826</td>\n",
       "      <td>0.076044</td>\n",
       "    </tr>\n",
       "    <tr>\n",
       "      <th>3</th>\n",
       "      <td>4</td>\n",
       "      <td>0.053084</td>\n",
       "      <td>1.015216e-01</td>\n",
       "      <td>0.022008</td>\n",
       "      <td>0.047389</td>\n",
       "    </tr>\n",
       "    <tr>\n",
       "      <th>4</th>\n",
       "      <td>5</td>\n",
       "      <td>0.035684</td>\n",
       "      <td>3.995849e-02</td>\n",
       "      <td>0.011900</td>\n",
       "      <td>0.031826</td>\n",
       "    </tr>\n",
       "    <tr>\n",
       "      <th>5</th>\n",
       "      <td>6</td>\n",
       "      <td>0.024464</td>\n",
       "      <td>1.310625e-02</td>\n",
       "      <td>0.007148</td>\n",
       "      <td>0.022299</td>\n",
       "    </tr>\n",
       "    <tr>\n",
       "      <th>6</th>\n",
       "      <td>7</td>\n",
       "      <td>0.017106</td>\n",
       "      <td>3.684691e-03</td>\n",
       "      <td>0.004625</td>\n",
       "      <td>0.016055</td>\n",
       "    </tr>\n",
       "    <tr>\n",
       "      <th>7</th>\n",
       "      <td>8</td>\n",
       "      <td>0.012814</td>\n",
       "      <td>9.064249e-04</td>\n",
       "      <td>0.003162</td>\n",
       "      <td>0.011782</td>\n",
       "    </tr>\n",
       "    <tr>\n",
       "      <th>8</th>\n",
       "      <td>9</td>\n",
       "      <td>0.008964</td>\n",
       "      <td>1.982029e-04</td>\n",
       "      <td>0.002256</td>\n",
       "      <td>0.008768</td>\n",
       "    </tr>\n",
       "    <tr>\n",
       "      <th>9</th>\n",
       "      <td>10</td>\n",
       "      <td>0.005874</td>\n",
       "      <td>3.900594e-05</td>\n",
       "      <td>0.001665</td>\n",
       "      <td>0.006596</td>\n",
       "    </tr>\n",
       "    <tr>\n",
       "      <th>10</th>\n",
       "      <td>11</td>\n",
       "      <td>0.005150</td>\n",
       "      <td>6.978446e-06</td>\n",
       "      <td>0.001264</td>\n",
       "      <td>0.005005</td>\n",
       "    </tr>\n",
       "    <tr>\n",
       "      <th>11</th>\n",
       "      <td>12</td>\n",
       "      <td>0.003532</td>\n",
       "      <td>1.144454e-06</td>\n",
       "      <td>0.000982</td>\n",
       "      <td>0.003824</td>\n",
       "    </tr>\n",
       "    <tr>\n",
       "      <th>12</th>\n",
       "      <td>13</td>\n",
       "      <td>0.002735</td>\n",
       "      <td>1.732509e-07</td>\n",
       "      <td>0.000778</td>\n",
       "      <td>0.002938</td>\n",
       "    </tr>\n",
       "    <tr>\n",
       "      <th>13</th>\n",
       "      <td>14</td>\n",
       "      <td>0.001888</td>\n",
       "      <td>2.435388e-08</td>\n",
       "      <td>0.000626</td>\n",
       "      <td>0.002269</td>\n",
       "    </tr>\n",
       "    <tr>\n",
       "      <th>15</th>\n",
       "      <td>15</td>\n",
       "      <td>0.001251</td>\n",
       "      <td>3.195197e-09</td>\n",
       "      <td>0.000512</td>\n",
       "      <td>0.001759</td>\n",
       "    </tr>\n",
       "    <tr>\n",
       "      <th>14</th>\n",
       "      <td>16</td>\n",
       "      <td>0.001288</td>\n",
       "      <td>3.930052e-10</td>\n",
       "      <td>0.000424</td>\n",
       "      <td>0.001369</td>\n",
       "    </tr>\n",
       "    <tr>\n",
       "      <th>16</th>\n",
       "      <td>17</td>\n",
       "      <td>0.000920</td>\n",
       "      <td>4.549567e-11</td>\n",
       "      <td>0.000355</td>\n",
       "      <td>0.001068</td>\n",
       "    </tr>\n",
       "    <tr>\n",
       "      <th>17</th>\n",
       "      <td>18</td>\n",
       "      <td>0.000785</td>\n",
       "      <td>4.974143e-12</td>\n",
       "      <td>0.000300</td>\n",
       "      <td>0.000836</td>\n",
       "    </tr>\n",
       "    <tr>\n",
       "      <th>18</th>\n",
       "      <td>19</td>\n",
       "      <td>0.000589</td>\n",
       "      <td>5.152113e-13</td>\n",
       "      <td>0.000256</td>\n",
       "      <td>0.000656</td>\n",
       "    </tr>\n",
       "    <tr>\n",
       "      <th>19</th>\n",
       "      <td>20</td>\n",
       "      <td>0.000343</td>\n",
       "      <td>5.069628e-14</td>\n",
       "      <td>0.000220</td>\n",
       "      <td>0.000516</td>\n",
       "    </tr>\n",
       "    <tr>\n",
       "      <th>20</th>\n",
       "      <td>21</td>\n",
       "      <td>0.000343</td>\n",
       "      <td>4.750917e-15</td>\n",
       "      <td>0.000190</td>\n",
       "      <td>0.000406</td>\n",
       "    </tr>\n",
       "    <tr>\n",
       "      <th>22</th>\n",
       "      <td>22</td>\n",
       "      <td>0.000196</td>\n",
       "      <td>4.249868e-16</td>\n",
       "      <td>0.000166</td>\n",
       "      <td>0.000321</td>\n",
       "    </tr>\n",
       "    <tr>\n",
       "      <th>21</th>\n",
       "      <td>23</td>\n",
       "      <td>0.000258</td>\n",
       "      <td>3.636372e-17</td>\n",
       "      <td>0.000145</td>\n",
       "      <td>0.000253</td>\n",
       "    </tr>\n",
       "    <tr>\n",
       "      <th>23</th>\n",
       "      <td>24</td>\n",
       "      <td>0.000159</td>\n",
       "      <td>2.981795e-18</td>\n",
       "      <td>0.000128</td>\n",
       "      <td>0.000201</td>\n",
       "    </tr>\n",
       "    <tr>\n",
       "      <th>24</th>\n",
       "      <td>25</td>\n",
       "      <td>0.000098</td>\n",
       "      <td>2.347245e-19</td>\n",
       "      <td>0.000114</td>\n",
       "      <td>0.000159</td>\n",
       "    </tr>\n",
       "    <tr>\n",
       "      <th>26</th>\n",
       "      <td>26</td>\n",
       "      <td>0.000074</td>\n",
       "      <td>1.776666e-20</td>\n",
       "      <td>0.000101</td>\n",
       "      <td>0.000126</td>\n",
       "    </tr>\n",
       "    <tr>\n",
       "      <th>27</th>\n",
       "      <td>27</td>\n",
       "      <td>0.000049</td>\n",
       "      <td>1.294979e-21</td>\n",
       "      <td>0.000090</td>\n",
       "      <td>0.000100</td>\n",
       "    </tr>\n",
       "    <tr>\n",
       "      <th>25</th>\n",
       "      <td>28</td>\n",
       "      <td>0.000086</td>\n",
       "      <td>9.101761e-23</td>\n",
       "      <td>0.000081</td>\n",
       "      <td>0.000080</td>\n",
       "    </tr>\n",
       "    <tr>\n",
       "      <th>29</th>\n",
       "      <td>29</td>\n",
       "      <td>0.000025</td>\n",
       "      <td>6.176581e-24</td>\n",
       "      <td>0.000073</td>\n",
       "      <td>0.000063</td>\n",
       "    </tr>\n",
       "    <tr>\n",
       "      <th>34</th>\n",
       "      <td>30</td>\n",
       "      <td>0.000012</td>\n",
       "      <td>4.051796e-25</td>\n",
       "      <td>0.000066</td>\n",
       "      <td>0.000051</td>\n",
       "    </tr>\n",
       "    <tr>\n",
       "      <th>28</th>\n",
       "      <td>31</td>\n",
       "      <td>0.000037</td>\n",
       "      <td>2.572211e-26</td>\n",
       "      <td>0.000060</td>\n",
       "      <td>0.000040</td>\n",
       "    </tr>\n",
       "    <tr>\n",
       "      <th>33</th>\n",
       "      <td>33</td>\n",
       "      <td>0.000012</td>\n",
       "      <td>9.433743e-29</td>\n",
       "      <td>0.000050</td>\n",
       "      <td>0.000026</td>\n",
       "    </tr>\n",
       "    <tr>\n",
       "      <th>30</th>\n",
       "      <td>34</td>\n",
       "      <td>0.000012</td>\n",
       "      <td>5.460417e-30</td>\n",
       "      <td>0.000046</td>\n",
       "      <td>0.000021</td>\n",
       "    </tr>\n",
       "    <tr>\n",
       "      <th>31</th>\n",
       "      <td>37</td>\n",
       "      <td>0.000012</td>\n",
       "      <td>8.927207e-34</td>\n",
       "      <td>0.000035</td>\n",
       "      <td>0.000011</td>\n",
       "    </tr>\n",
       "    <tr>\n",
       "      <th>32</th>\n",
       "      <td>38</td>\n",
       "      <td>0.000012</td>\n",
       "      <td>4.623307e-35</td>\n",
       "      <td>0.000033</td>\n",
       "      <td>0.000008</td>\n",
       "    </tr>\n",
       "    <tr>\n",
       "      <th>35</th>\n",
       "      <td>41</td>\n",
       "      <td>0.000012</td>\n",
       "      <td>5.509426e-39</td>\n",
       "      <td>0.000026</td>\n",
       "      <td>0.000004</td>\n",
       "    </tr>\n",
       "  </tbody>\n",
       "</table>\n",
       "</div>"
      ],
      "text/plain": [
       "     k         0    zt_poisson    pareto    nbinom\n",
       "0    1  0.616885  3.196741e-01  0.753830  0.612563\n",
       "1    2  0.126205  3.145562e-01  0.137745  0.144476\n",
       "2    3  0.079044  2.063468e-01  0.047826  0.076044\n",
       "3    4  0.053084  1.015216e-01  0.022008  0.047389\n",
       "4    5  0.035684  3.995849e-02  0.011900  0.031826\n",
       "5    6  0.024464  1.310625e-02  0.007148  0.022299\n",
       "6    7  0.017106  3.684691e-03  0.004625  0.016055\n",
       "7    8  0.012814  9.064249e-04  0.003162  0.011782\n",
       "8    9  0.008964  1.982029e-04  0.002256  0.008768\n",
       "9   10  0.005874  3.900594e-05  0.001665  0.006596\n",
       "10  11  0.005150  6.978446e-06  0.001264  0.005005\n",
       "11  12  0.003532  1.144454e-06  0.000982  0.003824\n",
       "12  13  0.002735  1.732509e-07  0.000778  0.002938\n",
       "13  14  0.001888  2.435388e-08  0.000626  0.002269\n",
       "15  15  0.001251  3.195197e-09  0.000512  0.001759\n",
       "14  16  0.001288  3.930052e-10  0.000424  0.001369\n",
       "16  17  0.000920  4.549567e-11  0.000355  0.001068\n",
       "17  18  0.000785  4.974143e-12  0.000300  0.000836\n",
       "18  19  0.000589  5.152113e-13  0.000256  0.000656\n",
       "19  20  0.000343  5.069628e-14  0.000220  0.000516\n",
       "20  21  0.000343  4.750917e-15  0.000190  0.000406\n",
       "22  22  0.000196  4.249868e-16  0.000166  0.000321\n",
       "21  23  0.000258  3.636372e-17  0.000145  0.000253\n",
       "23  24  0.000159  2.981795e-18  0.000128  0.000201\n",
       "24  25  0.000098  2.347245e-19  0.000114  0.000159\n",
       "26  26  0.000074  1.776666e-20  0.000101  0.000126\n",
       "27  27  0.000049  1.294979e-21  0.000090  0.000100\n",
       "25  28  0.000086  9.101761e-23  0.000081  0.000080\n",
       "29  29  0.000025  6.176581e-24  0.000073  0.000063\n",
       "34  30  0.000012  4.051796e-25  0.000066  0.000051\n",
       "28  31  0.000037  2.572211e-26  0.000060  0.000040\n",
       "33  33  0.000012  9.433743e-29  0.000050  0.000026\n",
       "30  34  0.000012  5.460417e-30  0.000046  0.000021\n",
       "31  37  0.000012  8.927207e-34  0.000035  0.000011\n",
       "32  38  0.000012  4.623307e-35  0.000033  0.000008\n",
       "35  41  0.000012  5.509426e-39  0.000026  0.000004"
      ]
     },
     "execution_count": 23,
     "metadata": {},
     "output_type": "execute_result"
    }
   ],
   "source": [
    "pdfs"
   ]
  },
  {
   "cell_type": "code",
   "execution_count": 25,
   "metadata": {},
   "outputs": [],
   "source": [
    "pdfs.rename({\n",
    "  0 : 'empirical'\n",
    "}, axis = 'columns', inplace = True)"
   ]
  },
  {
   "cell_type": "code",
   "execution_count": 26,
   "metadata": {},
   "outputs": [],
   "source": [
    "model_names = ['nbinom', 'zt_poisson', 'pareto']\n",
    "divs = map(lambda col : \n",
    "     kl_div(pdfs.empirical, pdfs[col]).sum(),\n",
    "  model_names\n",
    ")\n",
    "\n",
    "kl_divs = dict(zip(model_names, divs))"
   ]
  },
  {
   "cell_type": "code",
   "execution_count": 27,
   "metadata": {},
   "outputs": [
    {
     "data": {
      "text/plain": [
       "{'nbinom': 0.0024666675737633655,\n",
       " 'zt_poisson': 0.5560831125964799,\n",
       " 'pareto': 0.10341700946425329}"
      ]
     },
     "execution_count": 27,
     "metadata": {},
     "output_type": "execute_result"
    }
   ],
   "source": [
    "kl_divs"
   ]
  },
  {
   "cell_type": "code",
   "execution_count": null,
   "metadata": {},
   "outputs": [],
   "source": []
  }
 ],
 "metadata": {
  "kernelspec": {
   "display_name": "Synovium",
   "language": "python",
   "name": "synovium"
  },
  "language_info": {
   "codemirror_mode": {
    "name": "ipython",
    "version": 3
   },
   "file_extension": ".py",
   "mimetype": "text/x-python",
   "name": "python",
   "nbconvert_exporter": "python",
   "pygments_lexer": "ipython3",
   "version": "3.7.6"
  }
 },
 "nbformat": 4,
 "nbformat_minor": 2
}
