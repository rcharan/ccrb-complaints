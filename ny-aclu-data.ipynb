{
 "cells": [
  {
   "cell_type": "code",
   "execution_count": 1,
   "metadata": {},
   "outputs": [],
   "source": [
    "import pandas as pd"
   ]
  },
  {
   "cell_type": "code",
   "execution_count": 28,
   "metadata": {},
   "outputs": [],
   "source": [
    "import pandas as pd\n",
    "\n",
    "import numpy as np\n",
    "from numpy import exp, log\n",
    "\n",
    "import seaborn as sns\n",
    "import matplotlib.pyplot as plt\n",
    "%matplotlib inline\n",
    "plt.ioff()\n",
    "sns.set()\n",
    "\n",
    "from functools import partial"
   ]
  },
  {
   "cell_type": "code",
   "execution_count": 4,
   "metadata": {},
   "outputs": [],
   "source": [
    "df = pd.read_excel('CCRB_database_raw.xlsx')"
   ]
  },
  {
   "cell_type": "code",
   "execution_count": 9,
   "metadata": {},
   "outputs": [
    {
     "name": "stdout",
     "output_type": "stream",
     "text": [
      "<class 'pandas.core.frame.DataFrame'>\n",
      "RangeIndex: 323911 entries, 0 to 323910\n",
      "Data columns (total 14 columns):\n",
      " #   Column             Non-Null Count   Dtype         \n",
      "---  ------             --------------   -----         \n",
      " 0   AsOfDate           323911 non-null  datetime64[ns]\n",
      " 1   Unique Id          323911 non-null  int64         \n",
      " 2   First Name         323906 non-null  object        \n",
      " 3   Last Name          323911 non-null  object        \n",
      " 4   Rank               323911 non-null  object        \n",
      " 5   Command            323911 non-null  object        \n",
      " 6   ShieldNo           323855 non-null  float64       \n",
      " 7   Complaint Id       290649 non-null  float64       \n",
      " 8   Incident Date      270418 non-null  datetime64[ns]\n",
      " 9   FADO Type          290649 non-null  object        \n",
      " 10  Allegation         290228 non-null  object        \n",
      " 11  Board Disposition  290649 non-null  object        \n",
      " 12  NYPDDisposition    11464 non-null   object        \n",
      " 13  PenaltyDesc        9992 non-null    object        \n",
      "dtypes: datetime64[ns](2), float64(2), int64(1), object(9)\n",
      "memory usage: 34.6+ MB\n"
     ]
    }
   ],
   "source": [
    "df.info()"
   ]
  },
  {
   "cell_type": "code",
   "execution_count": 10,
   "metadata": {},
   "outputs": [
    {
     "data": {
      "text/html": [
       "<div>\n",
       "<style scoped>\n",
       "    .dataframe tbody tr th:only-of-type {\n",
       "        vertical-align: middle;\n",
       "    }\n",
       "\n",
       "    .dataframe tbody tr th {\n",
       "        vertical-align: top;\n",
       "    }\n",
       "\n",
       "    .dataframe thead th {\n",
       "        text-align: right;\n",
       "    }\n",
       "</style>\n",
       "<table border=\"1\" class=\"dataframe\">\n",
       "  <thead>\n",
       "    <tr style=\"text-align: right;\">\n",
       "      <th></th>\n",
       "      <th>Unique Id</th>\n",
       "      <th>ShieldNo</th>\n",
       "      <th>Complaint Id</th>\n",
       "    </tr>\n",
       "  </thead>\n",
       "  <tbody>\n",
       "    <tr>\n",
       "      <th>count</th>\n",
       "      <td>323911.000000</td>\n",
       "      <td>323855.000000</td>\n",
       "      <td>2.906490e+05</td>\n",
       "    </tr>\n",
       "    <tr>\n",
       "      <th>mean</th>\n",
       "      <td>39220.746721</td>\n",
       "      <td>8393.289228</td>\n",
       "      <td>1.263439e+08</td>\n",
       "    </tr>\n",
       "    <tr>\n",
       "      <th>std</th>\n",
       "      <td>22824.135790</td>\n",
       "      <td>9262.194906</td>\n",
       "      <td>9.356904e+07</td>\n",
       "    </tr>\n",
       "    <tr>\n",
       "      <th>min</th>\n",
       "      <td>1.000000</td>\n",
       "      <td>0.000000</td>\n",
       "      <td>6.278008e+06</td>\n",
       "    </tr>\n",
       "    <tr>\n",
       "      <th>25%</th>\n",
       "      <td>19168.000000</td>\n",
       "      <td>1620.000000</td>\n",
       "      <td>9.404761e+06</td>\n",
       "    </tr>\n",
       "    <tr>\n",
       "      <th>50%</th>\n",
       "      <td>39457.000000</td>\n",
       "      <td>4667.000000</td>\n",
       "      <td>2.004009e+08</td>\n",
       "    </tr>\n",
       "    <tr>\n",
       "      <th>75%</th>\n",
       "      <td>56169.000000</td>\n",
       "      <td>13053.000000</td>\n",
       "      <td>2.011027e+08</td>\n",
       "    </tr>\n",
       "    <tr>\n",
       "      <th>max</th>\n",
       "      <td>81550.000000</td>\n",
       "      <td>93187.000000</td>\n",
       "      <td>2.020037e+08</td>\n",
       "    </tr>\n",
       "  </tbody>\n",
       "</table>\n",
       "</div>"
      ],
      "text/plain": [
       "           Unique Id       ShieldNo  Complaint Id\n",
       "count  323911.000000  323855.000000  2.906490e+05\n",
       "mean    39220.746721    8393.289228  1.263439e+08\n",
       "std     22824.135790    9262.194906  9.356904e+07\n",
       "min         1.000000       0.000000  6.278008e+06\n",
       "25%     19168.000000    1620.000000  9.404761e+06\n",
       "50%     39457.000000    4667.000000  2.004009e+08\n",
       "75%     56169.000000   13053.000000  2.011027e+08\n",
       "max     81550.000000   93187.000000  2.020037e+08"
      ]
     },
     "execution_count": 10,
     "metadata": {},
     "output_type": "execute_result"
    }
   ],
   "source": [
    "df.describe()"
   ]
  },
  {
   "cell_type": "code",
   "execution_count": 11,
   "metadata": {},
   "outputs": [
    {
     "data": {
      "text/html": [
       "<div>\n",
       "<style scoped>\n",
       "    .dataframe tbody tr th:only-of-type {\n",
       "        vertical-align: middle;\n",
       "    }\n",
       "\n",
       "    .dataframe tbody tr th {\n",
       "        vertical-align: top;\n",
       "    }\n",
       "\n",
       "    .dataframe thead th {\n",
       "        text-align: right;\n",
       "    }\n",
       "</style>\n",
       "<table border=\"1\" class=\"dataframe\">\n",
       "  <thead>\n",
       "    <tr style=\"text-align: right;\">\n",
       "      <th></th>\n",
       "      <th>AsOfDate</th>\n",
       "      <th>Unique Id</th>\n",
       "      <th>First Name</th>\n",
       "      <th>Last Name</th>\n",
       "      <th>Rank</th>\n",
       "      <th>Command</th>\n",
       "      <th>ShieldNo</th>\n",
       "      <th>Complaint Id</th>\n",
       "      <th>Incident Date</th>\n",
       "      <th>FADO Type</th>\n",
       "      <th>Allegation</th>\n",
       "      <th>Board Disposition</th>\n",
       "      <th>NYPDDisposition</th>\n",
       "      <th>PenaltyDesc</th>\n",
       "    </tr>\n",
       "  </thead>\n",
       "  <tbody>\n",
       "    <tr>\n",
       "      <th>0</th>\n",
       "      <td>2020-07-14</td>\n",
       "      <td>43921</td>\n",
       "      <td>Richard</td>\n",
       "      <td>Aalbue</td>\n",
       "      <td>POM</td>\n",
       "      <td>H BKLYN</td>\n",
       "      <td>3619.0</td>\n",
       "      <td>6290465.0</td>\n",
       "      <td>NaT</td>\n",
       "      <td>Force</td>\n",
       "      <td>Force</td>\n",
       "      <td>Unsubstantiated</td>\n",
       "      <td>NaN</td>\n",
       "      <td>NaN</td>\n",
       "    </tr>\n",
       "    <tr>\n",
       "      <th>1</th>\n",
       "      <td>2020-07-14</td>\n",
       "      <td>52580</td>\n",
       "      <td>Walter</td>\n",
       "      <td>Aanonsen</td>\n",
       "      <td>LT</td>\n",
       "      <td>MOUNTED</td>\n",
       "      <td>0.0</td>\n",
       "      <td>8300607.0</td>\n",
       "      <td>NaT</td>\n",
       "      <td>Force</td>\n",
       "      <td>Force</td>\n",
       "      <td>Complainant Unavailable</td>\n",
       "      <td>NaN</td>\n",
       "      <td>NaN</td>\n",
       "    </tr>\n",
       "    <tr>\n",
       "      <th>2</th>\n",
       "      <td>2020-07-14</td>\n",
       "      <td>52580</td>\n",
       "      <td>Walter</td>\n",
       "      <td>Aanonsen</td>\n",
       "      <td>LT</td>\n",
       "      <td>MOUNTED</td>\n",
       "      <td>0.0</td>\n",
       "      <td>8800504.0</td>\n",
       "      <td>1988-02-15</td>\n",
       "      <td>Force</td>\n",
       "      <td>Beat</td>\n",
       "      <td>Unsubstantiated</td>\n",
       "      <td>NaN</td>\n",
       "      <td>NaN</td>\n",
       "    </tr>\n",
       "    <tr>\n",
       "      <th>3</th>\n",
       "      <td>2020-07-14</td>\n",
       "      <td>52580</td>\n",
       "      <td>Walter</td>\n",
       "      <td>Aanonsen</td>\n",
       "      <td>LT</td>\n",
       "      <td>MOUNTED</td>\n",
       "      <td>0.0</td>\n",
       "      <td>9201176.0</td>\n",
       "      <td>1992-04-02</td>\n",
       "      <td>Abuse of Authority</td>\n",
       "      <td>Vehicle Searched</td>\n",
       "      <td>Unsubstantiated</td>\n",
       "      <td>NaN</td>\n",
       "      <td>NaN</td>\n",
       "    </tr>\n",
       "    <tr>\n",
       "      <th>4</th>\n",
       "      <td>2020-07-14</td>\n",
       "      <td>52580</td>\n",
       "      <td>Walter</td>\n",
       "      <td>Aanonsen</td>\n",
       "      <td>LT</td>\n",
       "      <td>MOUNTED</td>\n",
       "      <td>0.0</td>\n",
       "      <td>9201176.0</td>\n",
       "      <td>1992-04-02</td>\n",
       "      <td>Discourtesy</td>\n",
       "      <td>Nasty Words</td>\n",
       "      <td>Unsubstantiated</td>\n",
       "      <td>NaN</td>\n",
       "      <td>NaN</td>\n",
       "    </tr>\n",
       "  </tbody>\n",
       "</table>\n",
       "</div>"
      ],
      "text/plain": [
       "    AsOfDate  Unique Id First Name Last Name Rank  Command  ShieldNo  \\\n",
       "0 2020-07-14      43921    Richard    Aalbue  POM  H BKLYN    3619.0   \n",
       "1 2020-07-14      52580     Walter  Aanonsen   LT  MOUNTED       0.0   \n",
       "2 2020-07-14      52580     Walter  Aanonsen   LT  MOUNTED       0.0   \n",
       "3 2020-07-14      52580     Walter  Aanonsen   LT  MOUNTED       0.0   \n",
       "4 2020-07-14      52580     Walter  Aanonsen   LT  MOUNTED       0.0   \n",
       "\n",
       "   Complaint Id Incident Date           FADO Type        Allegation  \\\n",
       "0     6290465.0           NaT               Force             Force   \n",
       "1     8300607.0           NaT               Force             Force   \n",
       "2     8800504.0    1988-02-15               Force              Beat   \n",
       "3     9201176.0    1992-04-02  Abuse of Authority  Vehicle Searched   \n",
       "4     9201176.0    1992-04-02         Discourtesy       Nasty Words   \n",
       "\n",
       "         Board Disposition NYPDDisposition PenaltyDesc  \n",
       "0          Unsubstantiated             NaN         NaN  \n",
       "1  Complainant Unavailable             NaN         NaN  \n",
       "2          Unsubstantiated             NaN         NaN  \n",
       "3          Unsubstantiated             NaN         NaN  \n",
       "4          Unsubstantiated             NaN         NaN  "
      ]
     },
     "execution_count": 11,
     "metadata": {},
     "output_type": "execute_result"
    }
   ],
   "source": [
    "df.head()"
   ]
  },
  {
   "cell_type": "code",
   "execution_count": 12,
   "metadata": {},
   "outputs": [
    {
     "data": {
      "text/plain": [
       "323911"
      ]
     },
     "execution_count": 12,
     "metadata": {},
     "output_type": "execute_result"
    }
   ],
   "source": [
    "len(df)"
   ]
  },
  {
   "cell_type": "markdown",
   "metadata": {},
   "source": [
    "# 0. Formatting"
   ]
  },
  {
   "cell_type": "code",
   "execution_count": 20,
   "metadata": {},
   "outputs": [],
   "source": [
    "df.rename(lambda col : col.lower().replace(' ', '_'), axis = 'columns', inplace = True)"
   ]
  },
  {
   "cell_type": "code",
   "execution_count": 23,
   "metadata": {},
   "outputs": [],
   "source": [
    "counts = df.groupby('unique_id').apply(lambda df : len(df.complaint_id.unique()))"
   ]
  },
  {
   "cell_type": "markdown",
   "metadata": {},
   "source": [
    "## Graph"
   ]
  },
  {
   "cell_type": "code",
   "execution_count": 46,
   "metadata": {},
   "outputs": [
    {
     "data": {
      "image/png": "[encoded data removed]",
      "text/plain": [
       "<Figure size 432x288 with 1 Axes>"
      ]
     },
     "metadata": {},
     "output_type": "display_data"
    },
    {
     "name": "stdout",
     "output_type": "stream",
     "text": [
      "Log Likelihood: -1.593\n"
     ]
    }
   ],
   "source": [
    "x_max = max(counts) + 1 + 2\n",
    "bins = range(x_max)\n",
    "fig, ax = plt.subplots()\n",
    "sns.distplot(counts, norm_hist = False, kde = False, bins = bins, ax = ax, hist_kws = {'alpha' : 0.5, 'label' : 'Data'})\n",
    "ax.set_xlabel('Number of Complaints')\n",
    "ax.set_ylabel('Frequency')\n",
    "ax.set_title('Frequency of Complaints')\n",
    "\n",
    "plt.show()"
   ]
  },
  {
   "cell_type": "markdown",
   "metadata": {},
   "source": [
    "# 1. Negative Binomial"
   ]
  },
  {
   "cell_type": "code",
   "execution_count": 52,
   "metadata": {},
   "outputs": [],
   "source": [
    "from scipy.stats import nbinom\n",
    "from statsmodels.base.model import GenericLikelihoodModel\n",
    "from scipy.optimize import minimize"
   ]
  },
  {
   "cell_type": "code",
   "execution_count": 53,
   "metadata": {},
   "outputs": [],
   "source": [
    "def log_likelihood_nbinom(counts, r, p, loc):\n",
    "  model = nbinom(r, p, loc = loc)\n",
    "  log_likelihood = model.logpmf(counts)\n",
    "  return -log_likelihood.sum()"
   ]
  },
  {
   "cell_type": "code",
   "execution_count": 54,
   "metadata": {},
   "outputs": [],
   "source": [
    "log_likelihood = lambda params : log_likelihood_nbinom(counts, *params, 1)"
   ]
  },
  {
   "cell_type": "code",
   "execution_count": 55,
   "metadata": {},
   "outputs": [
    {
     "data": {
      "text/plain": [
       "count    81550.000000\n",
       "mean         2.287652\n",
       "std          2.544950\n",
       "min          1.000000\n",
       "25%          1.000000\n",
       "50%          1.000000\n",
       "75%          3.000000\n",
       "max         41.000000\n",
       "dtype: float64"
      ]
     },
     "execution_count": 55,
     "metadata": {},
     "output_type": "execute_result"
    }
   ],
   "source": [
    "counts.describe()"
   ]
  },
  {
   "cell_type": "code",
   "execution_count": 56,
   "metadata": {},
   "outputs": [
    {
     "name": "stdout",
     "output_type": "stream",
     "text": [
      "1.2492720247196636 0.6467913630004483\n"
     ]
    }
   ],
   "source": [
    "# guess with method of moments. But this doesn't work\n",
    "e_x = counts.mean()\n",
    "v_x = counts.var()\n",
    "\n",
    "r = e_x ** 2 / (v_x - e_x)\n",
    "p = 1 - e_x / v_x\n",
    "print(r, p)"
   ]
  },
  {
   "cell_type": "code",
   "execution_count": 62,
   "metadata": {},
   "outputs": [
    {
     "data": {
      "text/plain": [
       " final_simplex: (array([[0.28874276, 0.18316445],\n",
       "       [0.28871538, 0.18315944],\n",
       "       [0.28870858, 0.1831373 ]]), array([118178.06390264, 118178.06393071, 118178.0639874 ]))\n",
       "           fun: 118178.06390263616\n",
       "       message: 'Optimization terminated successfully.'\n",
       "          nfev: 50\n",
       "           nit: 26\n",
       "        status: 0\n",
       "       success: True\n",
       "             x: array([0.28874276, 0.18316445])"
      ]
     },
     "execution_count": 62,
     "metadata": {},
     "output_type": "execute_result"
    }
   ],
   "source": [
    "guess = np.array([0.3, 0.2])\n",
    "result = minimize(log_likelihood, guess, method = 'Nelder-Mead')\n",
    "\n",
    "result"
   ]
  },
  {
   "cell_type": "code",
   "execution_count": 63,
   "metadata": {},
   "outputs": [
    {
     "data": {
      "image/png": "[encoded data removed]",
      "text/plain": [
       "<Figure size 432x288 with 1 Axes>"
      ]
     },
     "metadata": {},
     "output_type": "display_data"
    },
    {
     "name": "stdout",
     "output_type": "stream",
     "text": [
      "Log Likelihood: -1.449\n"
     ]
    }
   ],
   "source": [
    "r, p = result.x\n",
    "model = nbinom(r, p, loc = 1)\n",
    "x_max = max(counts) + 1 + 2\n",
    "bins = range(x_max)\n",
    "fig, ax = plt.subplots()\n",
    "sns.distplot(counts, norm_hist = True, kde = False, bins = bins, ax = ax, hist_kws = {'alpha' : 0.5, 'label' : 'Data'})\n",
    "ax.set_xlabel('Number of Complaints')\n",
    "ax.set_ylabel('Frequency')\n",
    "ax.set_title('Frequency of Complaints')\n",
    "\n",
    "xs = np.arange(1, x_max)\n",
    "ys = model.pmf(xs)\n",
    "\n",
    "ax.bar(xs + 0.5, ys, color = 'red', alpha = 0.2, label = 'Fit')\n",
    "ax.legend();\n",
    "\n",
    "plt.show()\n",
    "\n",
    "log_likelihood = counts.map(model.logpmf).mean()\n",
    "print(f'Log Likelihood: {log_likelihood:.3f}')"
   ]
  },
  {
   "cell_type": "markdown",
   "metadata": {},
   "source": [
    "# 2. Empirical PDF Log Likelihood"
   ]
  },
  {
   "cell_type": "code",
   "execution_count": 43,
   "metadata": {},
   "outputs": [
    {
     "data": {
      "text/plain": [
       "-7.210147950700328"
      ]
     },
     "execution_count": 43,
     "metadata": {},
     "output_type": "execute_result"
    }
   ],
   "source": [
    "log_likelihood = counts.reset_index().merge(\n",
    "  counts.value_counts(normalize = True).rename('pmf'),\n",
    "  left_on = 'unique_id',\n",
    "  right_index = True,\n",
    "  validate = 'm:1'\n",
    ")\n",
    "log_pmf = log(log_likelihood.pmf)\n",
    "\n",
    "log_pmf.mean()"
   ]
  },
  {
   "cell_type": "code",
   "execution_count": null,
   "metadata": {},
   "outputs": [],
   "source": []
  }
 ],
 "metadata": {
  "kernelspec": {
   "display_name": "Synovium",
   "language": "python",
   "name": "synovium"
  },
  "language_info": {
   "codemirror_mode": {
    "name": "ipython",
    "version": 3
   },
   "file_extension": ".py",
   "mimetype": "text/x-python",
   "name": "python",
   "nbconvert_exporter": "python",
   "pygments_lexer": "ipython3",
   "version": "3.7.6"
  }
 },
 "nbformat": 4,
 "nbformat_minor": 2
}
