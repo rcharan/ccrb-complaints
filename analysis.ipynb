{
 "cells": [
  {
   "cell_type": "code",
   "execution_count": 6,
   "metadata": {},
   "outputs": [],
   "source": [
    "import pandas as pd"
   ]
  },
  {
   "cell_type": "code",
   "execution_count": 26,
   "metadata": {},
   "outputs": [],
   "source": [
    "import numpy as np\n",
    "from numpy import exp, log"
   ]
  },
  {
   "cell_type": "code",
   "execution_count": 7,
   "metadata": {},
   "outputs": [],
   "source": [
    "import seaborn as sns\n",
    "import matplotlib.pyplot as plt\n",
    "%matplotlib inline\n",
    "plt.ioff()\n",
    "sns.set()"
   ]
  },
  {
   "cell_type": "code",
   "execution_count": 117,
   "metadata": {},
   "outputs": [],
   "source": [
    "from functools import partial"
   ]
  },
  {
   "cell_type": "code",
   "execution_count": 8,
   "metadata": {},
   "outputs": [],
   "source": [
    "df = pd.read_csv('allegations_20200726939.csv')"
   ]
  },
  {
   "cell_type": "code",
   "execution_count": 9,
   "metadata": {},
   "outputs": [
    {
     "data": {
      "text/html": [
       "<div>\n",
       "<style scoped>\n",
       "    .dataframe tbody tr th:only-of-type {\n",
       "        vertical-align: middle;\n",
       "    }\n",
       "\n",
       "    .dataframe tbody tr th {\n",
       "        vertical-align: top;\n",
       "    }\n",
       "\n",
       "    .dataframe thead th {\n",
       "        text-align: right;\n",
       "    }\n",
       "</style>\n",
       "<table border=\"1\" class=\"dataframe\">\n",
       "  <thead>\n",
       "    <tr style=\"text-align: right;\">\n",
       "      <th></th>\n",
       "      <th>unique_mos_id</th>\n",
       "      <th>first_name</th>\n",
       "      <th>last_name</th>\n",
       "      <th>command_now</th>\n",
       "      <th>complaint_id</th>\n",
       "      <th>month_received</th>\n",
       "      <th>year_received</th>\n",
       "      <th>month_closed</th>\n",
       "      <th>year_closed</th>\n",
       "      <th>command_at_incident</th>\n",
       "      <th>...</th>\n",
       "      <th>mos_age_incident</th>\n",
       "      <th>complainant_ethnicity</th>\n",
       "      <th>complainant_gender</th>\n",
       "      <th>complainant_age_incident</th>\n",
       "      <th>fado_type</th>\n",
       "      <th>allegation</th>\n",
       "      <th>precinct</th>\n",
       "      <th>contact_reason</th>\n",
       "      <th>outcome_description</th>\n",
       "      <th>board_disposition</th>\n",
       "    </tr>\n",
       "  </thead>\n",
       "  <tbody>\n",
       "    <tr>\n",
       "      <th>1288</th>\n",
       "      <td>11229</td>\n",
       "      <td>Michal</td>\n",
       "      <td>Jalbrzykowski</td>\n",
       "      <td>090 PCT</td>\n",
       "      <td>40368</td>\n",
       "      <td>9</td>\n",
       "      <td>2018</td>\n",
       "      <td>7</td>\n",
       "      <td>2019</td>\n",
       "      <td>090 PCT</td>\n",
       "      <td>...</td>\n",
       "      <td>32</td>\n",
       "      <td>Black</td>\n",
       "      <td>Male</td>\n",
       "      <td>32.0</td>\n",
       "      <td>Discourtesy</td>\n",
       "      <td>Word</td>\n",
       "      <td>90.0</td>\n",
       "      <td>Report-dispute</td>\n",
       "      <td>Arrest - other violation/crime</td>\n",
       "      <td>Substantiated (Command Discipline B)</td>\n",
       "    </tr>\n",
       "    <tr>\n",
       "      <th>29399</th>\n",
       "      <td>6004</td>\n",
       "      <td>John</td>\n",
       "      <td>Gogarty</td>\n",
       "      <td>050 DET</td>\n",
       "      <td>9934</td>\n",
       "      <td>9</td>\n",
       "      <td>2005</td>\n",
       "      <td>6</td>\n",
       "      <td>2006</td>\n",
       "      <td>046 PCT</td>\n",
       "      <td>...</td>\n",
       "      <td>45</td>\n",
       "      <td>NaN</td>\n",
       "      <td>NaN</td>\n",
       "      <td>NaN</td>\n",
       "      <td>Discourtesy</td>\n",
       "      <td>Word</td>\n",
       "      <td>46.0</td>\n",
       "      <td>Report-gun possession/shots fired</td>\n",
       "      <td>Arrest - disorderly conduct</td>\n",
       "      <td>Exonerated</td>\n",
       "    </tr>\n",
       "    <tr>\n",
       "      <th>26786</th>\n",
       "      <td>36152</td>\n",
       "      <td>Andrew</td>\n",
       "      <td>Valenzano</td>\n",
       "      <td>WARRSEC</td>\n",
       "      <td>17513</td>\n",
       "      <td>2</td>\n",
       "      <td>2009</td>\n",
       "      <td>10</td>\n",
       "      <td>2009</td>\n",
       "      <td>041 PCT</td>\n",
       "      <td>...</td>\n",
       "      <td>34</td>\n",
       "      <td>Hispanic</td>\n",
       "      <td>Male</td>\n",
       "      <td>30.0</td>\n",
       "      <td>Abuse of Authority</td>\n",
       "      <td>Stop</td>\n",
       "      <td>41.0</td>\n",
       "      <td>PD suspected C/V of violation/crime - street</td>\n",
       "      <td>Arrest - other violation/crime</td>\n",
       "      <td>Exonerated</td>\n",
       "    </tr>\n",
       "    <tr>\n",
       "      <th>33002</th>\n",
       "      <td>9609</td>\n",
       "      <td>Douglas</td>\n",
       "      <td>Carr</td>\n",
       "      <td>077 DET</td>\n",
       "      <td>8709</td>\n",
       "      <td>1</td>\n",
       "      <td>2005</td>\n",
       "      <td>2</td>\n",
       "      <td>2006</td>\n",
       "      <td>077 PCT</td>\n",
       "      <td>...</td>\n",
       "      <td>31</td>\n",
       "      <td>NaN</td>\n",
       "      <td>NaN</td>\n",
       "      <td>NaN</td>\n",
       "      <td>Abuse of Authority</td>\n",
       "      <td>Question and/or stop</td>\n",
       "      <td>77.0</td>\n",
       "      <td>PD suspected C/V of violation/crime - street</td>\n",
       "      <td>No arrest made or summons issued</td>\n",
       "      <td>Exonerated</td>\n",
       "    </tr>\n",
       "    <tr>\n",
       "      <th>9303</th>\n",
       "      <td>19561</td>\n",
       "      <td>Michael</td>\n",
       "      <td>Greaney</td>\n",
       "      <td>DBQS</td>\n",
       "      <td>21141</td>\n",
       "      <td>7</td>\n",
       "      <td>2010</td>\n",
       "      <td>7</td>\n",
       "      <td>2011</td>\n",
       "      <td>BX IRT</td>\n",
       "      <td>...</td>\n",
       "      <td>25</td>\n",
       "      <td>Hispanic</td>\n",
       "      <td>Male</td>\n",
       "      <td>29.0</td>\n",
       "      <td>Abuse of Authority</td>\n",
       "      <td>Frisk</td>\n",
       "      <td>44.0</td>\n",
       "      <td>PD suspected C/V of violation/crime - street</td>\n",
       "      <td>Summons - other violation/crime</td>\n",
       "      <td>Unsubstantiated</td>\n",
       "    </tr>\n",
       "  </tbody>\n",
       "</table>\n",
       "<p>5 rows × 26 columns</p>\n",
       "</div>"
      ],
      "text/plain": [
       "       unique_mos_id first_name      last_name command_now  complaint_id  \\\n",
       "1288           11229     Michal  Jalbrzykowski     090 PCT         40368   \n",
       "29399           6004       John        Gogarty     050 DET          9934   \n",
       "26786          36152     Andrew      Valenzano     WARRSEC         17513   \n",
       "33002           9609    Douglas           Carr     077 DET          8709   \n",
       "9303           19561    Michael        Greaney        DBQS         21141   \n",
       "\n",
       "       month_received  year_received  month_closed  year_closed  \\\n",
       "1288                9           2018             7         2019   \n",
       "29399               9           2005             6         2006   \n",
       "26786               2           2009            10         2009   \n",
       "33002               1           2005             2         2006   \n",
       "9303                7           2010             7         2011   \n",
       "\n",
       "      command_at_incident  ... mos_age_incident complainant_ethnicity  \\\n",
       "1288              090 PCT  ...               32                 Black   \n",
       "29399             046 PCT  ...               45                   NaN   \n",
       "26786             041 PCT  ...               34              Hispanic   \n",
       "33002             077 PCT  ...               31                   NaN   \n",
       "9303               BX IRT  ...               25              Hispanic   \n",
       "\n",
       "      complainant_gender complainant_age_incident           fado_type  \\\n",
       "1288                Male                     32.0         Discourtesy   \n",
       "29399                NaN                      NaN         Discourtesy   \n",
       "26786               Male                     30.0  Abuse of Authority   \n",
       "33002                NaN                      NaN  Abuse of Authority   \n",
       "9303                Male                     29.0  Abuse of Authority   \n",
       "\n",
       "                 allegation  precinct  \\\n",
       "1288                   Word      90.0   \n",
       "29399                  Word      46.0   \n",
       "26786                  Stop      41.0   \n",
       "33002  Question and/or stop      77.0   \n",
       "9303                  Frisk      44.0   \n",
       "\n",
       "                                     contact_reason  \\\n",
       "1288                                 Report-dispute   \n",
       "29399             Report-gun possession/shots fired   \n",
       "26786  PD suspected C/V of violation/crime - street   \n",
       "33002  PD suspected C/V of violation/crime - street   \n",
       "9303   PD suspected C/V of violation/crime - street   \n",
       "\n",
       "                    outcome_description                     board_disposition  \n",
       "1288     Arrest - other violation/crime  Substantiated (Command Discipline B)  \n",
       "29399       Arrest - disorderly conduct                            Exonerated  \n",
       "26786    Arrest - other violation/crime                            Exonerated  \n",
       "33002  No arrest made or summons issued                            Exonerated  \n",
       "9303    Summons - other violation/crime                       Unsubstantiated  \n",
       "\n",
       "[5 rows x 26 columns]"
      ]
     },
     "execution_count": 9,
     "metadata": {},
     "output_type": "execute_result"
    }
   ],
   "source": [
    "df.sample(5, random_state = 42)"
   ]
  },
  {
   "cell_type": "markdown",
   "metadata": {},
   "source": [
    "# 1. Complaint Frequency\n",
    "Note: frequency-0 officers are truncated (do not appear in the dataset)"
   ]
  },
  {
   "cell_type": "code",
   "execution_count": 10,
   "metadata": {},
   "outputs": [
    {
     "data": {
      "image/png": "[encoded data removed]",
      "text/plain": [
       "<Figure size 432x288 with 1 Axes>"
      ]
     },
     "metadata": {},
     "output_type": "display_data"
    }
   ],
   "source": [
    "counts = df.unique_mos_id.value_counts()\n",
    "\n",
    "bins = range(max(counts) + 1 + 2)\n",
    "fig, ax = plt.subplots()\n",
    "sns.distplot(counts, norm_hist = False, kde = False, bins = bins, ax = ax)\n",
    "ax.set_xlabel('Number of Complaints')\n",
    "ax.set_ylabel('Frequency')\n",
    "ax.set_title('Frequency of Complaints')\n",
    "plt.show()"
   ]
  },
  {
   "cell_type": "markdown",
   "metadata": {},
   "source": [
    "## 1a. Zero–Truncated Poisson Distribution\n",
    "\n",
    "The simplest hypothesis is that every officer has an equal probability of having a complaint lodged against them, per unit time. This would leave to a Poisson distribution with PMF\n",
    "\n",
    "$$f(k;\\lambda) = \\frac{\\lambda^k e^{-\\lambda}}{k!}\\$$\n",
    "\n",
    "However, we do not observe officers with 0 complaints. This leads to a [Zero-Truncated Poisson](https://en.wikipedia.org/wiki/Zero-truncated_Poisson_distribution) distribution with PMF\n",
    "\n",
    "$$g(k; \\lambda) = P_f(k | k > 0) = \\frac{f(k; \\lambda)}{1 - f(0; \\lambda)} = \\frac{\\lambda^k e^{-\\lambda}}{k! ( 1 - e^{-\\lambda} )}$$\n",
    "\n",
    "and MLE $\\hat{\\lambda}$ satisfying\n",
    "\n",
    "$$\\frac{\\hat{\\lambda}}{1 - e^{-\\lambda}} = \\overline{x}$$\n",
    "\n",
    "Unless $\\lambda$ is small, this is close to $\\hat{\\lambda} = \\overline{x}$, the MLE for a regular Poisson distribution."
   ]
  },
  {
   "cell_type": "code",
   "execution_count": 45,
   "metadata": {},
   "outputs": [],
   "source": [
    "from scipy.optimize import newton_krylov as newton\n",
    "\n",
    "class ZeroTruncatedPoisson:\n",
    "\n",
    "    def __init__(self, lamda = None):\n",
    "      self.lamda = lamda\n",
    "      self.data = None\n",
    "    \n",
    "    def fit(self, data):\n",
    "      '''Fit to count data\n",
    "      \n",
    "      Parameters\n",
    "      ----------\n",
    "      \n",
    "      Data: a numpy Series with counts\n",
    "      '''\n",
    "      \n",
    "      self.data  = data\n",
    "      self.x_bar = data.mean()\n",
    "      self.n     = len(data)\n",
    "      \n",
    "      def mle_eqn(lamda):\n",
    "        return lamda / (1 - exp(-lamda)) - self.x_bar\n",
    "      \n",
    "      [self.lamda] = newton(mle_eqn, [self.x_bar])\n",
    "      \n",
    "    def is_fit(self):\n",
    "      return self.data is not None\n",
    "      \n",
    "    def log_pmf(self, k):\n",
    "      terms = (\n",
    "        [-log(m) for m in range(1, k)] # 1/k!\n",
    "       +[k * log(self.lamda), - self.lamda, -log(1 - exp(-self.lamda))]\n",
    "      )\n",
    "      \n",
    "      return sum(terms)\n",
    "      \n",
    "    def pmf(self, k):\n",
    "      return exp(self.log_pmf(k))\n",
    "    \n",
    "    def log_likelihood(self, data = None):\n",
    "      '''Log likelihood on a per-observation basis'''\n",
    "      \n",
    "      if data is None:\n",
    "        data = self.data\n",
    "      \n",
    "      return self.data.map(lambda count : self.log_pmf(count)).mean()\n",
    "    \n",
    "    def plot(self, max_count = None, include_zero = False, normalize = False):\n",
    "      '''Returns x and y coordinates for plotting the pmf.\n",
    "      \n",
    "      Parameters\n",
    "      ----------\n",
    "      \n",
    "      max_count: maximum value of x to return. If None, the maximum\n",
    "                 value in the datset is used\n",
    "                 \n",
    "      include_zero: whether to include 0 in the xs\n",
    "      \n",
    "      normalize: whether to return a PMF or expected counts (using\n",
    "                 the size of the data)\n",
    "      \n",
    "      '''        \n",
    "      if max_count is None:\n",
    "        max_count = self.data.max()\n",
    "        \n",
    "      xs = np.arange(start = 0 if include_zero else 1,\n",
    "                     stop  = max_count + 1)\n",
    "      \n",
    "      pmf = np.vectorize(lambda k : self.pmf(k))\n",
    "      \n",
    "      ys = pmf(xs)\n",
    "      \n",
    "      if not normalize:\n",
    "        ys *= self.n\n",
    "      \n",
    "      return xs, ys"
   ]
  },
  {
   "cell_type": "code",
   "execution_count": 46,
   "metadata": {},
   "outputs": [],
   "source": [
    "model = ZeroTruncatedPoisson()\n",
    "model.fit(counts)"
   ]
  },
  {
   "cell_type": "code",
   "execution_count": 66,
   "metadata": {},
   "outputs": [
    {
     "data": {
      "image/png": "[encoded data removed]",
      "text/plain": [
       "<Figure size 432x288 with 1 Axes>"
      ]
     },
     "metadata": {},
     "output_type": "display_data"
    },
    {
     "name": "stdout",
     "output_type": "stream",
     "text": [
      "Log Likelihood: -3.002\n"
     ]
    }
   ],
   "source": [
    "x_max = max(counts) + 1 + 2\n",
    "bins = range(x_max)\n",
    "fig, ax = plt.subplots()\n",
    "sns.distplot(counts, norm_hist = True, kde = False, bins = bins, ax = ax, hist_kws = {'alpha' : 0.3, 'label' : 'Data'})\n",
    "ax.set_xlabel('Number of Complaints')\n",
    "ax.set_ylabel('Frequency')\n",
    "ax.set_title('Frequency of Complaints')\n",
    "\n",
    "xs, ys = model.plot(max_count = x_max, include_zero = True, normalize = True)\n",
    "\n",
    "ax.bar(xs, ys, color = 'red', alpha = 0.3, label = 'Fit')\n",
    "ax.legend();\n",
    "\n",
    "# It's pretty apparent that the model does not fit the data\n",
    "\n",
    "plt.show()\n",
    "print(f'Log Likelihood: {model.log_likelihood():.3f}')"
   ]
  },
  {
   "cell_type": "markdown",
   "metadata": {},
   "source": [
    "## 1b. The Pareto (Power Law) Distribution\n",
    "\n",
    "The Pareto Distribution is generated by a process where the \"rich get richer\" and is the genesis of the \"80/20\" rule (though the exact numbers may vary) "
   ]
  },
  {
   "cell_type": "code",
   "execution_count": 114,
   "metadata": {},
   "outputs": [],
   "source": [
    "from scipy.stats import pareto"
   ]
  },
  {
   "cell_type": "code",
   "execution_count": 115,
   "metadata": {},
   "outputs": [
    {
     "data": {
      "text/plain": [
       "0.5756621418416998"
      ]
     },
     "execution_count": 115,
     "metadata": {},
     "output_type": "execute_result"
    }
   ],
   "source": [
    "b, loc, scale = pareto.fit(counts, floc = 0)\n",
    "model = pareto(b, loc, scale)\n",
    "b"
   ]
  },
  {
   "cell_type": "code",
   "execution_count": 116,
   "metadata": {},
   "outputs": [
    {
     "data": {
      "image/png": "[encoded data removed]",
      "text/plain": [
       "<Figure size 432x288 with 1 Axes>"
      ]
     },
     "metadata": {},
     "output_type": "display_data"
    }
   ],
   "source": [
    "x_max = max(counts) + 1 + 2\n",
    "bins = range(x_max)\n",
    "fig, ax = plt.subplots()\n",
    "sns.distplot(counts, norm_hist = True, kde = False, bins = bins, ax = ax, hist_kws = {'alpha' : 0.5, 'label' : 'Data'})\n",
    "ax.set_xlabel('Number of Complaints')\n",
    "ax.set_ylabel('Frequency')\n",
    "ax.set_title('Frequency of Complaints')\n",
    "\n",
    "xs = np.arange(1, x_max)\n",
    "ys = model.pdf(xs)\n",
    "\n",
    "ax.bar(xs, ys, color = 'red', alpha = 0.2, label = 'Fit')\n",
    "ax.legend();\n",
    "\n",
    "plt.show()"
   ]
  },
  {
   "cell_type": "code",
   "execution_count": 118,
   "metadata": {},
   "outputs": [],
   "source": [
    "def pmf(model, k):\n",
    "  return model.cdf(k+1) - model.cdf(k)\n",
    "\n",
    "pareto_pmf = partial(pmf, model)\n",
    "pareto_pmf = np.vectorize(pareto_pmf)"
   ]
  },
  {
   "cell_type": "code",
   "execution_count": null,
   "metadata": {},
   "outputs": [],
   "source": [
    "print(f'{log(pareto_pmf(counts)).mean():.3f}')"
   ]
  },
  {
   "cell_type": "code",
   "execution_count": null,
   "metadata": {},
   "outputs": [],
   "source": []
  }
 ],
 "metadata": {
  "kernelspec": {
   "display_name": "Synovium",
   "language": "python",
   "name": "synovium"
  },
  "language_info": {
   "codemirror_mode": {
    "name": "ipython",
    "version": 3
   },
   "file_extension": ".py",
   "mimetype": "text/x-python",
   "name": "python",
   "nbconvert_exporter": "python",
   "pygments_lexer": "ipython3",
   "version": "3.7.6"
  }
 },
 "nbformat": 4,
 "nbformat_minor": 2
}
