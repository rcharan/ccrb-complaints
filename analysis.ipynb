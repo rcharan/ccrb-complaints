{
 "cells": [
  {
   "cell_type": "markdown",
   "metadata": {},
   "source": [
    "Data Source: [ProPublica](https://www.propublica.org/datastore/dataset/civilian-complaints-against-new-york-city-police-officers)"
   ]
  },
  {
   "cell_type": "code",
   "execution_count": 91,
   "metadata": {},
   "outputs": [
    {
     "name": "stdout",
     "output_type": "stream",
     "text": [
      "The autoreload extension is already loaded. To reload it, use:\n",
      "  %reload_ext autoreload\n"
     ]
    }
   ],
   "source": [
    "%load_ext autoreload\n",
    "%autoreload 2"
   ]
  },
  {
   "cell_type": "code",
   "execution_count": 92,
   "metadata": {},
   "outputs": [],
   "source": [
    "import pandas as pd\n",
    "\n",
    "import numpy as np\n",
    "\n",
    "\n",
    "import seaborn as sns\n",
    "import matplotlib.pyplot as plt\n",
    "%matplotlib inline\n",
    "plt.ioff()\n",
    "sns.set()\n",
    "\n",
    "from functools import partial"
   ]
  },
  {
   "cell_type": "code",
   "execution_count": 93,
   "metadata": {},
   "outputs": [],
   "source": [
    "df = pd.read_csv('allegations_20200726939.csv')"
   ]
  },
  {
   "cell_type": "code",
   "execution_count": 94,
   "metadata": {},
   "outputs": [
    {
     "data": {
      "text/html": [
       "<div>\n",
       "<style scoped>\n",
       "    .dataframe tbody tr th:only-of-type {\n",
       "        vertical-align: middle;\n",
       "    }\n",
       "\n",
       "    .dataframe tbody tr th {\n",
       "        vertical-align: top;\n",
       "    }\n",
       "\n",
       "    .dataframe thead th {\n",
       "        text-align: right;\n",
       "    }\n",
       "</style>\n",
       "<table border=\"1\" class=\"dataframe\">\n",
       "  <thead>\n",
       "    <tr style=\"text-align: right;\">\n",
       "      <th></th>\n",
       "      <th>unique_mos_id</th>\n",
       "      <th>first_name</th>\n",
       "      <th>last_name</th>\n",
       "      <th>command_now</th>\n",
       "      <th>complaint_id</th>\n",
       "      <th>month_received</th>\n",
       "      <th>year_received</th>\n",
       "      <th>month_closed</th>\n",
       "      <th>year_closed</th>\n",
       "      <th>command_at_incident</th>\n",
       "      <th>...</th>\n",
       "      <th>mos_age_incident</th>\n",
       "      <th>complainant_ethnicity</th>\n",
       "      <th>complainant_gender</th>\n",
       "      <th>complainant_age_incident</th>\n",
       "      <th>fado_type</th>\n",
       "      <th>allegation</th>\n",
       "      <th>precinct</th>\n",
       "      <th>contact_reason</th>\n",
       "      <th>outcome_description</th>\n",
       "      <th>board_disposition</th>\n",
       "    </tr>\n",
       "  </thead>\n",
       "  <tbody>\n",
       "    <tr>\n",
       "      <th>1288</th>\n",
       "      <td>11229</td>\n",
       "      <td>Michal</td>\n",
       "      <td>Jalbrzykowski</td>\n",
       "      <td>090 PCT</td>\n",
       "      <td>40368</td>\n",
       "      <td>9</td>\n",
       "      <td>2018</td>\n",
       "      <td>7</td>\n",
       "      <td>2019</td>\n",
       "      <td>090 PCT</td>\n",
       "      <td>...</td>\n",
       "      <td>32</td>\n",
       "      <td>Black</td>\n",
       "      <td>Male</td>\n",
       "      <td>32.0</td>\n",
       "      <td>Discourtesy</td>\n",
       "      <td>Word</td>\n",
       "      <td>90.0</td>\n",
       "      <td>Report-dispute</td>\n",
       "      <td>Arrest - other violation/crime</td>\n",
       "      <td>Substantiated (Command Discipline B)</td>\n",
       "    </tr>\n",
       "    <tr>\n",
       "      <th>29399</th>\n",
       "      <td>6004</td>\n",
       "      <td>John</td>\n",
       "      <td>Gogarty</td>\n",
       "      <td>050 DET</td>\n",
       "      <td>9934</td>\n",
       "      <td>9</td>\n",
       "      <td>2005</td>\n",
       "      <td>6</td>\n",
       "      <td>2006</td>\n",
       "      <td>046 PCT</td>\n",
       "      <td>...</td>\n",
       "      <td>45</td>\n",
       "      <td>NaN</td>\n",
       "      <td>NaN</td>\n",
       "      <td>NaN</td>\n",
       "      <td>Discourtesy</td>\n",
       "      <td>Word</td>\n",
       "      <td>46.0</td>\n",
       "      <td>Report-gun possession/shots fired</td>\n",
       "      <td>Arrest - disorderly conduct</td>\n",
       "      <td>Exonerated</td>\n",
       "    </tr>\n",
       "    <tr>\n",
       "      <th>26786</th>\n",
       "      <td>36152</td>\n",
       "      <td>Andrew</td>\n",
       "      <td>Valenzano</td>\n",
       "      <td>WARRSEC</td>\n",
       "      <td>17513</td>\n",
       "      <td>2</td>\n",
       "      <td>2009</td>\n",
       "      <td>10</td>\n",
       "      <td>2009</td>\n",
       "      <td>041 PCT</td>\n",
       "      <td>...</td>\n",
       "      <td>34</td>\n",
       "      <td>Hispanic</td>\n",
       "      <td>Male</td>\n",
       "      <td>30.0</td>\n",
       "      <td>Abuse of Authority</td>\n",
       "      <td>Stop</td>\n",
       "      <td>41.0</td>\n",
       "      <td>PD suspected C/V of violation/crime - street</td>\n",
       "      <td>Arrest - other violation/crime</td>\n",
       "      <td>Exonerated</td>\n",
       "    </tr>\n",
       "    <tr>\n",
       "      <th>33002</th>\n",
       "      <td>9609</td>\n",
       "      <td>Douglas</td>\n",
       "      <td>Carr</td>\n",
       "      <td>077 DET</td>\n",
       "      <td>8709</td>\n",
       "      <td>1</td>\n",
       "      <td>2005</td>\n",
       "      <td>2</td>\n",
       "      <td>2006</td>\n",
       "      <td>077 PCT</td>\n",
       "      <td>...</td>\n",
       "      <td>31</td>\n",
       "      <td>NaN</td>\n",
       "      <td>NaN</td>\n",
       "      <td>NaN</td>\n",
       "      <td>Abuse of Authority</td>\n",
       "      <td>Question and/or stop</td>\n",
       "      <td>77.0</td>\n",
       "      <td>PD suspected C/V of violation/crime - street</td>\n",
       "      <td>No arrest made or summons issued</td>\n",
       "      <td>Exonerated</td>\n",
       "    </tr>\n",
       "    <tr>\n",
       "      <th>9303</th>\n",
       "      <td>19561</td>\n",
       "      <td>Michael</td>\n",
       "      <td>Greaney</td>\n",
       "      <td>DBQS</td>\n",
       "      <td>21141</td>\n",
       "      <td>7</td>\n",
       "      <td>2010</td>\n",
       "      <td>7</td>\n",
       "      <td>2011</td>\n",
       "      <td>BX IRT</td>\n",
       "      <td>...</td>\n",
       "      <td>25</td>\n",
       "      <td>Hispanic</td>\n",
       "      <td>Male</td>\n",
       "      <td>29.0</td>\n",
       "      <td>Abuse of Authority</td>\n",
       "      <td>Frisk</td>\n",
       "      <td>44.0</td>\n",
       "      <td>PD suspected C/V of violation/crime - street</td>\n",
       "      <td>Summons - other violation/crime</td>\n",
       "      <td>Unsubstantiated</td>\n",
       "    </tr>\n",
       "  </tbody>\n",
       "</table>\n",
       "<p>5 rows × 26 columns</p>\n",
       "</div>"
      ],
      "text/plain": [
       "       unique_mos_id first_name      last_name command_now  complaint_id  \\\n",
       "1288           11229     Michal  Jalbrzykowski     090 PCT         40368   \n",
       "29399           6004       John        Gogarty     050 DET          9934   \n",
       "26786          36152     Andrew      Valenzano     WARRSEC         17513   \n",
       "33002           9609    Douglas           Carr     077 DET          8709   \n",
       "9303           19561    Michael        Greaney        DBQS         21141   \n",
       "\n",
       "       month_received  year_received  month_closed  year_closed  \\\n",
       "1288                9           2018             7         2019   \n",
       "29399               9           2005             6         2006   \n",
       "26786               2           2009            10         2009   \n",
       "33002               1           2005             2         2006   \n",
       "9303                7           2010             7         2011   \n",
       "\n",
       "      command_at_incident  ... mos_age_incident complainant_ethnicity  \\\n",
       "1288              090 PCT  ...               32                 Black   \n",
       "29399             046 PCT  ...               45                   NaN   \n",
       "26786             041 PCT  ...               34              Hispanic   \n",
       "33002             077 PCT  ...               31                   NaN   \n",
       "9303               BX IRT  ...               25              Hispanic   \n",
       "\n",
       "      complainant_gender complainant_age_incident           fado_type  \\\n",
       "1288                Male                     32.0         Discourtesy   \n",
       "29399                NaN                      NaN         Discourtesy   \n",
       "26786               Male                     30.0  Abuse of Authority   \n",
       "33002                NaN                      NaN  Abuse of Authority   \n",
       "9303                Male                     29.0  Abuse of Authority   \n",
       "\n",
       "                 allegation  precinct  \\\n",
       "1288                   Word      90.0   \n",
       "29399                  Word      46.0   \n",
       "26786                  Stop      41.0   \n",
       "33002  Question and/or stop      77.0   \n",
       "9303                  Frisk      44.0   \n",
       "\n",
       "                                     contact_reason  \\\n",
       "1288                                 Report-dispute   \n",
       "29399             Report-gun possession/shots fired   \n",
       "26786  PD suspected C/V of violation/crime - street   \n",
       "33002  PD suspected C/V of violation/crime - street   \n",
       "9303   PD suspected C/V of violation/crime - street   \n",
       "\n",
       "                    outcome_description                     board_disposition  \n",
       "1288     Arrest - other violation/crime  Substantiated (Command Discipline B)  \n",
       "29399       Arrest - disorderly conduct                            Exonerated  \n",
       "26786    Arrest - other violation/crime                            Exonerated  \n",
       "33002  No arrest made or summons issued                            Exonerated  \n",
       "9303    Summons - other violation/crime                       Unsubstantiated  \n",
       "\n",
       "[5 rows x 26 columns]"
      ]
     },
     "execution_count": 94,
     "metadata": {},
     "output_type": "execute_result"
    }
   ],
   "source": [
    "df.sample(5, random_state = 42)"
   ]
  },
  {
   "cell_type": "markdown",
   "metadata": {},
   "source": [
    "# 1. Complaint Frequency\n",
    "Note: frequency-0 officers are truncated (do not appear in the dataset)"
   ]
  },
  {
   "cell_type": "code",
   "execution_count": 95,
   "metadata": {},
   "outputs": [
    {
     "data": {
      "image/png": "[encoded data removed]",
      "text/plain": [
       "<Figure size 432x288 with 1 Axes>"
      ]
     },
     "metadata": {},
     "output_type": "display_data"
    }
   ],
   "source": [
    "counts = df.unique_mos_id.value_counts()\n",
    "\n",
    "bins = range(max(counts) + 1 + 2)\n",
    "fig, ax = plt.subplots()\n",
    "sns.distplot(counts, norm_hist = False, kde = False, bins = bins, ax = ax)\n",
    "ax.set_xlabel('Number of Complaints')\n",
    "ax.set_ylabel('Frequency')\n",
    "ax.set_title('Frequency of Complaints')\n",
    "plt.show()"
   ]
  },
  {
   "cell_type": "markdown",
   "metadata": {},
   "source": [
    "## 1a. Zero–Truncated Poisson Distribution\n",
    "\n",
    "The simplest hypothesis is that every officer has an equal probability of having a complaint lodged against them, per unit time. This would leave to a Poisson distribution with PMF\n",
    "\n",
    "$$f(k;\\lambda) = \\frac{\\lambda^k e^{-\\lambda}}{k!}\\$$\n",
    "\n",
    "However, we do not observe officers with 0 complaints. This leads to a [Zero-Truncated Poisson](https://en.wikipedia.org/wiki/Zero-truncated_Poisson_distribution) distribution with PMF\n",
    "\n",
    "$$g(k; \\lambda) = P_f(k | k > 0) = \\frac{f(k; \\lambda)}{1 - f(0; \\lambda)} = \\frac{\\lambda^k e^{-\\lambda}}{k! ( 1 - e^{-\\lambda} )} = \\frac{\\lambda ^ k}{k!(e^\\lambda - 1)}$$\n",
    "\n",
    "and MLE $\\hat{\\lambda}$ satisfying\n",
    "\n",
    "$$\\frac{\\hat{\\lambda}}{1 - e^{-\\lambda}} = \\overline{x}$$\n",
    "\n",
    "Unless $\\lambda$ is small, this is close to $\\hat{\\lambda} = \\overline{x}$, the MLE for a regular Poisson distribution."
   ]
  },
  {
   "cell_type": "code",
   "execution_count": 96,
   "metadata": {},
   "outputs": [],
   "source": [
    "from models.zero_truncated_poisson import ZeroTruncatedPoisson\n",
    "\n",
    "model = ZeroTruncatedPoisson()\n",
    "model.fit(counts)\n",
    "\n",
    "from graphing import graph_dists\n",
    "\n",
    "x_max = max(counts) + 3\n",
    "xs, ys = model.plot(max_count = x_max, include_zero = True, normalize = True)\n",
    "\n",
    "fig, ax = graph_dists(counts, x_max, xs, ys)\n",
    "# It's pretty apparent that the model does not fit the data\n",
    "\n",
    "plt.show()\n",
    "print(f'Log Likelihood: {model.log_likelihood():.3f}')\n",
    "\n",
    "# Compute the Distributions to get the KL-Div\n",
    "\n",
    "from scipy.special import rel_entr as kl_div\n",
    "\n",
    "pdfs = counts.value_counts(normalize = True).reset_index().rename({\n",
    "  'index'         : 'k',\n",
    "  'unique_mos_id' : 'empirical',\n",
    "}, axis = 'columns').sort_values('k')\n",
    "\n",
    "pdfs['zt_poisson'] = pdfs.k.map(model.pmf)"
   ]
  },
  {
   "cell_type": "markdown",
   "metadata": {},
   "source": [
    "## 1b. The Pareto (Power Law) Distribution\n",
    "\n",
    "The Pareto Distribution is generated by a process where the \"rich get richer\" and is the genesis of the \"80/20\" rule (though the exact numbers may vary) "
   ]
  },
  {
   "cell_type": "code",
   "execution_count": 101,
   "metadata": {},
   "outputs": [],
   "source": [
    "from scipy.stats import pareto\n",
    "\n",
    "b, loc, scale = pareto.fit(counts, floc = 0)\n",
    "model = pareto(b, loc, scale)\n",
    "b\n",
    "\n",
    "x_max = max(counts) + 1 + 2\n",
    "\n",
    "xs = np.arange(1, x_max)\n",
    "ys = model.pdf(xs)\n",
    "\n",
    "fig, ax = graph_dists(counts, x_max, xs, ys)\n",
    "\n",
    "plt.show()"
   ]
  },
  {
   "cell_type": "code",
   "execution_count": 104,
   "metadata": {},
   "outputs": [],
   "source": [
    "def logpmf(model, k):\n",
    "  return log(model.cdf(k+1) - model.cdf(k))\n",
    "\n",
    "pareto_logpmf = partial(logpmf, model)\n",
    "log_likelihood = counts.map(pareto_logpmf).mean()\n",
    "\n",
    "print(f'Log Likelihood: {log_likelihood:.3f}')\n",
    "\n",
    "pdfs['pareto'] = pdfs.k.map(lambda k : exp(pareto_logpmf(k)))"
   ]
  },
  {
   "cell_type": "markdown",
   "metadata": {},
   "source": [
    "# 1c. Negative Binomial Model\n",
    "\n",
    "Modeling the number of failures before a success in Bernoulli trials. In this context, the theory that with probability $p$ an officer will be reprimanded sufficiently to stop receiving further complaints, and that this will occur $r$ complaints.\n",
    "\n",
    "Later modeling will take the outcome measure into account."
   ]
  },
  {
   "cell_type": "code",
   "execution_count": 107,
   "metadata": {},
   "outputs": [],
   "source": [
    "from scipy.stats import nbinom\n",
    "from statsmodels.base.model import GenericLikelihoodModel\n",
    "from scipy.optimize import minimize"
   ]
  },
  {
   "cell_type": "code",
   "execution_count": 108,
   "metadata": {},
   "outputs": [],
   "source": [
    "def log_likelihood_nbinom(counts, r, p, loc):\n",
    "  model = nbinom(r, p, loc = loc)\n",
    "  log_likelihood = model.logpmf(counts)\n",
    "  return -log_likelihood.sum()"
   ]
  },
  {
   "cell_type": "code",
   "execution_count": 109,
   "metadata": {},
   "outputs": [],
   "source": [
    "log_likelihood = lambda params : log_likelihood_nbinom(counts, *params, 1)"
   ]
  },
  {
   "cell_type": "code",
   "execution_count": 110,
   "metadata": {},
   "outputs": [
    {
     "data": {
      "text/plain": [
       "62.06770750725695"
      ]
     },
     "execution_count": 110,
     "metadata": {},
     "output_type": "execute_result"
    }
   ],
   "source": [
    "counts.var()"
   ]
  },
  {
   "cell_type": "code",
   "execution_count": 111,
   "metadata": {},
   "outputs": [
    {
     "name": "stdout",
     "output_type": "stream",
     "text": [
      "1.297221625905947 0.8655041698314406\n"
     ]
    }
   ],
   "source": [
    "# guess with method of moments. But this doesn't work\n",
    "e_x = counts.mean()\n",
    "v_x = counts.var()\n",
    "\n",
    "r = e_x ** 2 / (v_x - e_x)\n",
    "p = 1 - e_x / v_x\n",
    "print(r, p)\n",
    "\n",
    "r, p = 1.3, 0.1 # Nelder-Mead gets us close enough for convergence"
   ]
  },
  {
   "cell_type": "code",
   "execution_count": 112,
   "metadata": {},
   "outputs": [],
   "source": [
    "guess = np.array([1.2, 0.1]) # Using Nelder-Mean\n",
    "result = minimize(log_likelihood, guess, method = 'tnc')"
   ]
  },
  {
   "cell_type": "code",
   "execution_count": 113,
   "metadata": {},
   "outputs": [
    {
     "data": {
      "text/plain": [
       "     fun: 12213.55258003504\n",
       "     jac: array([ 0.0001819 , -0.00400178])\n",
       " message: 'Converged (|f_n-f_(n-1)| ~= 0)'\n",
       "    nfev: 38\n",
       "     nit: 9\n",
       "  status: 1\n",
       " success: True\n",
       "       x: array([1.13902486, 0.13421018])"
      ]
     },
     "execution_count": 113,
     "metadata": {},
     "output_type": "execute_result"
    }
   ],
   "source": [
    "result"
   ]
  },
  {
   "cell_type": "code",
   "execution_count": 114,
   "metadata": {},
   "outputs": [],
   "source": [
    "r, p = result.x"
   ]
  },
  {
   "cell_type": "code",
   "execution_count": 115,
   "metadata": {},
   "outputs": [],
   "source": [
    "model = nbinom(r, p, loc = 1)"
   ]
  },
  {
   "cell_type": "code",
   "execution_count": 116,
   "metadata": {},
   "outputs": [
    {
     "data": {
      "image/png": "[encoded data removed]",
      "text/plain": [
       "<Figure size 432x288 with 1 Axes>"
      ]
     },
     "metadata": {},
     "output_type": "display_data"
    }
   ],
   "source": [
    "x_max = max(counts) + 1 + 2\n",
    "\n",
    "xs = np.arange(1, x_max)\n",
    "ys = model.pmf(xs)\n",
    "\n",
    "graph_dists(counts, x_max, xs, ys)\n",
    "\n",
    "plt.show()"
   ]
  },
  {
   "cell_type": "code",
   "execution_count": 117,
   "metadata": {},
   "outputs": [
    {
     "name": "stdout",
     "output_type": "stream",
     "text": [
      "Log Likelihood: -3.056\n"
     ]
    }
   ],
   "source": [
    "log_likelihood = counts.map(model.logpmf).mean()\n",
    "print(f'Log Likelihood: {log_likelihood:.3f}')"
   ]
  },
  {
   "cell_type": "code",
   "execution_count": 118,
   "metadata": {},
   "outputs": [],
   "source": [
    "pdfs['nbinom'] = pdfs.k.map(model.pmf)"
   ]
  },
  {
   "cell_type": "markdown",
   "metadata": {},
   "source": [
    "### 1d: Log Likelihood of the Empirical PMF"
   ]
  },
  {
   "cell_type": "code",
   "execution_count": 119,
   "metadata": {},
   "outputs": [
    {
     "data": {
      "text/plain": [
       "-3.042101536769978"
      ]
     },
     "execution_count": 119,
     "metadata": {},
     "output_type": "execute_result"
    }
   ],
   "source": [
    "log_likelihood = counts.reset_index().merge(\n",
    "  counts.value_counts(normalize = True).rename('pmf'),\n",
    "  left_on = 'unique_mos_id',\n",
    "  right_index = True,\n",
    "  validate = 'm:1'\n",
    ")\n",
    "log_pmf = log(log_likelihood.pmf)\n",
    "\n",
    "log_pmf.mean()"
   ]
  },
  {
   "cell_type": "markdown",
   "metadata": {},
   "source": [
    "### 1e: KL-Div"
   ]
  },
  {
   "cell_type": "code",
   "execution_count": 120,
   "metadata": {},
   "outputs": [
    {
     "data": {
      "text/plain": [
       "Index(['k', 'empirical', 'zt_poisson', 'pareto', 'nbinom'], dtype='object')"
      ]
     },
     "execution_count": 120,
     "metadata": {},
     "output_type": "execute_result"
    }
   ],
   "source": [
    "pdfs.columns"
   ]
  },
  {
   "cell_type": "code",
   "execution_count": 121,
   "metadata": {},
   "outputs": [],
   "source": [
    "model_names = ['zt_poisson', 'pareto', 'nbinom']\n",
    "\n",
    "divs = map(lambda col : \n",
    "     kl_div(pdfs.empirical, pdfs[col]).sum(),\n",
    "  model_names\n",
    ")\n",
    "\n",
    "kl_divs = dict(zip(model_names, divs))"
   ]
  },
  {
   "cell_type": "code",
   "execution_count": 122,
   "metadata": {},
   "outputs": [
    {
     "data": {
      "text/html": [
       "<div>\n",
       "<style scoped>\n",
       "    .dataframe tbody tr th:only-of-type {\n",
       "        vertical-align: middle;\n",
       "    }\n",
       "\n",
       "    .dataframe tbody tr th {\n",
       "        vertical-align: top;\n",
       "    }\n",
       "\n",
       "    .dataframe thead th {\n",
       "        text-align: right;\n",
       "    }\n",
       "</style>\n",
       "<table border=\"1\" class=\"dataframe\">\n",
       "  <thead>\n",
       "    <tr style=\"text-align: right;\">\n",
       "      <th></th>\n",
       "      <th>k</th>\n",
       "      <th>empirical</th>\n",
       "      <th>zt_poisson</th>\n",
       "      <th>pareto</th>\n",
       "      <th>nbinom</th>\n",
       "    </tr>\n",
       "  </thead>\n",
       "  <tbody>\n",
       "    <tr>\n",
       "      <th>2</th>\n",
       "      <td>1</td>\n",
       "      <td>0.090090</td>\n",
       "      <td>1.981577e-03</td>\n",
       "      <td>0.329022</td>\n",
       "      <td>0.101514</td>\n",
       "    </tr>\n",
       "    <tr>\n",
       "      <th>1</th>\n",
       "      <td>2</td>\n",
       "      <td>0.101602</td>\n",
       "      <td>8.268986e-03</td>\n",
       "      <td>0.139679</td>\n",
       "      <td>0.100109</td>\n",
       "    </tr>\n",
       "    <tr>\n",
       "      <th>0</th>\n",
       "      <td>3</td>\n",
       "      <td>0.103604</td>\n",
       "      <td>2.300395e-02</td>\n",
       "      <td>0.081088</td>\n",
       "      <td>0.092698</td>\n",
       "    </tr>\n",
       "    <tr>\n",
       "      <th>3</th>\n",
       "      <td>4</td>\n",
       "      <td>0.089840</td>\n",
       "      <td>4.799698e-02</td>\n",
       "      <td>0.054272</td>\n",
       "      <td>0.083976</td>\n",
       "    </tr>\n",
       "    <tr>\n",
       "      <th>4</th>\n",
       "      <td>5</td>\n",
       "      <td>0.085085</td>\n",
       "      <td>8.011527e-02</td>\n",
       "      <td>0.039450</td>\n",
       "      <td>0.075233</td>\n",
       "    </tr>\n",
       "    <tr>\n",
       "      <th>5</th>\n",
       "      <td>6</td>\n",
       "      <td>0.068819</td>\n",
       "      <td>1.114386e-01</td>\n",
       "      <td>0.030272</td>\n",
       "      <td>0.066947</td>\n",
       "    </tr>\n",
       "    <tr>\n",
       "      <th>6</th>\n",
       "      <td>7</td>\n",
       "      <td>0.054555</td>\n",
       "      <td>1.328645e-01</td>\n",
       "      <td>0.024137</td>\n",
       "      <td>0.059305</td>\n",
       "    </tr>\n",
       "    <tr>\n",
       "      <th>7</th>\n",
       "      <td>8</td>\n",
       "      <td>0.053303</td>\n",
       "      <td>1.386086e-01</td>\n",
       "      <td>0.019803</td>\n",
       "      <td>0.052365</td>\n",
       "    </tr>\n",
       "    <tr>\n",
       "      <th>8</th>\n",
       "      <td>9</td>\n",
       "      <td>0.047297</td>\n",
       "      <td>1.285343e-01</td>\n",
       "      <td>0.016612</td>\n",
       "      <td>0.046125</td>\n",
       "    </tr>\n",
       "    <tr>\n",
       "      <th>9</th>\n",
       "      <td>10</td>\n",
       "      <td>0.035035</td>\n",
       "      <td>1.072730e-01</td>\n",
       "      <td>0.014184</td>\n",
       "      <td>0.040552</td>\n",
       "    </tr>\n",
       "    <tr>\n",
       "      <th>10</th>\n",
       "      <td>11</td>\n",
       "      <td>0.032282</td>\n",
       "      <td>8.138968e-02</td>\n",
       "      <td>0.012286</td>\n",
       "      <td>0.035597</td>\n",
       "    </tr>\n",
       "    <tr>\n",
       "      <th>11</th>\n",
       "      <td>12</td>\n",
       "      <td>0.031532</td>\n",
       "      <td>5.660562e-02</td>\n",
       "      <td>0.010772</td>\n",
       "      <td>0.031209</td>\n",
       "    </tr>\n",
       "    <tr>\n",
       "      <th>12</th>\n",
       "      <td>13</td>\n",
       "      <td>0.027528</td>\n",
       "      <td>3.634022e-02</td>\n",
       "      <td>0.009540</td>\n",
       "      <td>0.027334</td>\n",
       "    </tr>\n",
       "    <tr>\n",
       "      <th>13</th>\n",
       "      <td>14</td>\n",
       "      <td>0.022773</td>\n",
       "      <td>2.166362e-02</td>\n",
       "      <td>0.008523</td>\n",
       "      <td>0.023918</td>\n",
       "    </tr>\n",
       "    <tr>\n",
       "      <th>14</th>\n",
       "      <td>15</td>\n",
       "      <td>0.018268</td>\n",
       "      <td>1.205344e-02</td>\n",
       "      <td>0.007672</td>\n",
       "      <td>0.020914</td>\n",
       "    </tr>\n",
       "    <tr>\n",
       "      <th>16</th>\n",
       "      <td>16</td>\n",
       "      <td>0.016517</td>\n",
       "      <td>6.287277e-03</td>\n",
       "      <td>0.006952</td>\n",
       "      <td>0.018275</td>\n",
       "    </tr>\n",
       "    <tr>\n",
       "      <th>15</th>\n",
       "      <td>17</td>\n",
       "      <td>0.017768</td>\n",
       "      <td>3.086634e-03</td>\n",
       "      <td>0.006336</td>\n",
       "      <td>0.015960</td>\n",
       "    </tr>\n",
       "    <tr>\n",
       "      <th>18</th>\n",
       "      <td>18</td>\n",
       "      <td>0.011762</td>\n",
       "      <td>1.431146e-03</td>\n",
       "      <td>0.005804</td>\n",
       "      <td>0.013931</td>\n",
       "    </tr>\n",
       "    <tr>\n",
       "      <th>19</th>\n",
       "      <td>19</td>\n",
       "      <td>0.010511</td>\n",
       "      <td>6.286397e-04</td>\n",
       "      <td>0.005342</td>\n",
       "      <td>0.012154</td>\n",
       "    </tr>\n",
       "    <tr>\n",
       "      <th>17</th>\n",
       "      <td>20</td>\n",
       "      <td>0.012513</td>\n",
       "      <td>2.623272e-04</td>\n",
       "      <td>0.004937</td>\n",
       "      <td>0.010600</td>\n",
       "    </tr>\n",
       "    <tr>\n",
       "      <th>20</th>\n",
       "      <td>21</td>\n",
       "      <td>0.007758</td>\n",
       "      <td>1.042546e-04</td>\n",
       "      <td>0.004580</td>\n",
       "      <td>0.009241</td>\n",
       "    </tr>\n",
       "    <tr>\n",
       "      <th>21</th>\n",
       "      <td>22</td>\n",
       "      <td>0.007007</td>\n",
       "      <td>3.954978e-05</td>\n",
       "      <td>0.004263</td>\n",
       "      <td>0.008054</td>\n",
       "    </tr>\n",
       "    <tr>\n",
       "      <th>22</th>\n",
       "      <td>23</td>\n",
       "      <td>0.006507</td>\n",
       "      <td>1.435118e-05</td>\n",
       "      <td>0.003981</td>\n",
       "      <td>0.007017</td>\n",
       "    </tr>\n",
       "    <tr>\n",
       "      <th>23</th>\n",
       "      <td>24</td>\n",
       "      <td>0.004254</td>\n",
       "      <td>4.990544e-06</td>\n",
       "      <td>0.003728</td>\n",
       "      <td>0.006112</td>\n",
       "    </tr>\n",
       "    <tr>\n",
       "      <th>24</th>\n",
       "      <td>25</td>\n",
       "      <td>0.004254</td>\n",
       "      <td>1.666016e-06</td>\n",
       "      <td>0.003500</td>\n",
       "      <td>0.005322</td>\n",
       "    </tr>\n",
       "    <tr>\n",
       "      <th>25</th>\n",
       "      <td>26</td>\n",
       "      <td>0.004004</td>\n",
       "      <td>5.347827e-07</td>\n",
       "      <td>0.003294</td>\n",
       "      <td>0.004634</td>\n",
       "    </tr>\n",
       "    <tr>\n",
       "      <th>26</th>\n",
       "      <td>27</td>\n",
       "      <td>0.003754</td>\n",
       "      <td>1.653046e-07</td>\n",
       "      <td>0.003107</td>\n",
       "      <td>0.004033</td>\n",
       "    </tr>\n",
       "    <tr>\n",
       "      <th>28</th>\n",
       "      <td>28</td>\n",
       "      <td>0.003253</td>\n",
       "      <td>4.927180e-08</td>\n",
       "      <td>0.002937</td>\n",
       "      <td>0.003510</td>\n",
       "    </tr>\n",
       "    <tr>\n",
       "      <th>27</th>\n",
       "      <td>29</td>\n",
       "      <td>0.003754</td>\n",
       "      <td>1.417986e-08</td>\n",
       "      <td>0.002782</td>\n",
       "      <td>0.003054</td>\n",
       "    </tr>\n",
       "    <tr>\n",
       "      <th>29</th>\n",
       "      <td>30</td>\n",
       "      <td>0.002753</td>\n",
       "      <td>3.944773e-09</td>\n",
       "      <td>0.002639</td>\n",
       "      <td>0.002657</td>\n",
       "    </tr>\n",
       "    <tr>\n",
       "      <th>31</th>\n",
       "      <td>31</td>\n",
       "      <td>0.002753</td>\n",
       "      <td>1.062018e-09</td>\n",
       "      <td>0.002508</td>\n",
       "      <td>0.002311</td>\n",
       "    </tr>\n",
       "    <tr>\n",
       "      <th>32</th>\n",
       "      <td>32</td>\n",
       "      <td>0.002252</td>\n",
       "      <td>2.769830e-10</td>\n",
       "      <td>0.002388</td>\n",
       "      <td>0.002010</td>\n",
       "    </tr>\n",
       "    <tr>\n",
       "      <th>30</th>\n",
       "      <td>33</td>\n",
       "      <td>0.002753</td>\n",
       "      <td>7.005041e-11</td>\n",
       "      <td>0.002277</td>\n",
       "      <td>0.001748</td>\n",
       "    </tr>\n",
       "    <tr>\n",
       "      <th>41</th>\n",
       "      <td>34</td>\n",
       "      <td>0.000501</td>\n",
       "      <td>1.719504e-11</td>\n",
       "      <td>0.002173</td>\n",
       "      <td>0.001519</td>\n",
       "    </tr>\n",
       "    <tr>\n",
       "      <th>34</th>\n",
       "      <td>35</td>\n",
       "      <td>0.001502</td>\n",
       "      <td>4.100214e-12</td>\n",
       "      <td>0.002078</td>\n",
       "      <td>0.001321</td>\n",
       "    </tr>\n",
       "    <tr>\n",
       "      <th>37</th>\n",
       "      <td>36</td>\n",
       "      <td>0.001001</td>\n",
       "      <td>9.505511e-13</td>\n",
       "      <td>0.001989</td>\n",
       "      <td>0.001148</td>\n",
       "    </tr>\n",
       "    <tr>\n",
       "      <th>40</th>\n",
       "      <td>37</td>\n",
       "      <td>0.000751</td>\n",
       "      <td>2.144101e-13</td>\n",
       "      <td>0.001906</td>\n",
       "      <td>0.000998</td>\n",
       "    </tr>\n",
       "    <tr>\n",
       "      <th>42</th>\n",
       "      <td>38</td>\n",
       "      <td>0.000501</td>\n",
       "      <td>4.709047e-14</td>\n",
       "      <td>0.001828</td>\n",
       "      <td>0.000867</td>\n",
       "    </tr>\n",
       "    <tr>\n",
       "      <th>48</th>\n",
       "      <td>39</td>\n",
       "      <td>0.000501</td>\n",
       "      <td>1.007720e-14</td>\n",
       "      <td>0.001756</td>\n",
       "      <td>0.000754</td>\n",
       "    </tr>\n",
       "    <tr>\n",
       "      <th>36</th>\n",
       "      <td>40</td>\n",
       "      <td>0.001001</td>\n",
       "      <td>2.102574e-15</td>\n",
       "      <td>0.001688</td>\n",
       "      <td>0.000655</td>\n",
       "    </tr>\n",
       "    <tr>\n",
       "      <th>38</th>\n",
       "      <td>41</td>\n",
       "      <td>0.001001</td>\n",
       "      <td>4.279951e-16</td>\n",
       "      <td>0.001624</td>\n",
       "      <td>0.000569</td>\n",
       "    </tr>\n",
       "    <tr>\n",
       "      <th>35</th>\n",
       "      <td>42</td>\n",
       "      <td>0.001251</td>\n",
       "      <td>8.504738e-17</td>\n",
       "      <td>0.001565</td>\n",
       "      <td>0.000494</td>\n",
       "    </tr>\n",
       "    <tr>\n",
       "      <th>47</th>\n",
       "      <td>43</td>\n",
       "      <td>0.000501</td>\n",
       "      <td>1.650684e-17</td>\n",
       "      <td>0.001508</td>\n",
       "      <td>0.000429</td>\n",
       "    </tr>\n",
       "    <tr>\n",
       "      <th>33</th>\n",
       "      <td>44</td>\n",
       "      <td>0.001502</td>\n",
       "      <td>3.130997e-18</td>\n",
       "      <td>0.001455</td>\n",
       "      <td>0.000373</td>\n",
       "    </tr>\n",
       "    <tr>\n",
       "      <th>39</th>\n",
       "      <td>45</td>\n",
       "      <td>0.000751</td>\n",
       "      <td>5.806863e-19</td>\n",
       "      <td>0.001405</td>\n",
       "      <td>0.000324</td>\n",
       "    </tr>\n",
       "    <tr>\n",
       "      <th>43</th>\n",
       "      <td>46</td>\n",
       "      <td>0.000501</td>\n",
       "      <td>1.053550e-19</td>\n",
       "      <td>0.001358</td>\n",
       "      <td>0.000281</td>\n",
       "    </tr>\n",
       "    <tr>\n",
       "      <th>45</th>\n",
       "      <td>47</td>\n",
       "      <td>0.000501</td>\n",
       "      <td>1.870806e-20</td>\n",
       "      <td>0.001313</td>\n",
       "      <td>0.000244</td>\n",
       "    </tr>\n",
       "    <tr>\n",
       "      <th>51</th>\n",
       "      <td>50</td>\n",
       "      <td>0.000250</td>\n",
       "      <td>9.247741e-23</td>\n",
       "      <td>0.001192</td>\n",
       "      <td>0.000160</td>\n",
       "    </tr>\n",
       "    <tr>\n",
       "      <th>44</th>\n",
       "      <td>56</td>\n",
       "      <td>0.000501</td>\n",
       "      <td>1.336812e-27</td>\n",
       "      <td>0.000999</td>\n",
       "      <td>0.000068</td>\n",
       "    </tr>\n",
       "    <tr>\n",
       "      <th>50</th>\n",
       "      <td>63</td>\n",
       "      <td>0.000250</td>\n",
       "      <td>1.352079e-33</td>\n",
       "      <td>0.000831</td>\n",
       "      <td>0.000025</td>\n",
       "    </tr>\n",
       "    <tr>\n",
       "      <th>52</th>\n",
       "      <td>65</td>\n",
       "      <td>0.000250</td>\n",
       "      <td>2.263871e-35</td>\n",
       "      <td>0.000791</td>\n",
       "      <td>0.000019</td>\n",
       "    </tr>\n",
       "    <tr>\n",
       "      <th>53</th>\n",
       "      <td>72</td>\n",
       "      <td>0.000250</td>\n",
       "      <td>8.599752e-42</td>\n",
       "      <td>0.000674</td>\n",
       "      <td>0.000007</td>\n",
       "    </tr>\n",
       "    <tr>\n",
       "      <th>46</th>\n",
       "      <td>73</td>\n",
       "      <td>0.000501</td>\n",
       "      <td>9.831833e-43</td>\n",
       "      <td>0.000660</td>\n",
       "      <td>0.000006</td>\n",
       "    </tr>\n",
       "    <tr>\n",
       "      <th>49</th>\n",
       "      <td>75</td>\n",
       "      <td>0.000501</td>\n",
       "      <td>1.233912e-44</td>\n",
       "      <td>0.000633</td>\n",
       "      <td>0.000005</td>\n",
       "    </tr>\n",
       "  </tbody>\n",
       "</table>\n",
       "</div>"
      ],
      "text/plain": [
       "     k  empirical    zt_poisson    pareto    nbinom\n",
       "2    1   0.090090  1.981577e-03  0.329022  0.101514\n",
       "1    2   0.101602  8.268986e-03  0.139679  0.100109\n",
       "0    3   0.103604  2.300395e-02  0.081088  0.092698\n",
       "3    4   0.089840  4.799698e-02  0.054272  0.083976\n",
       "4    5   0.085085  8.011527e-02  0.039450  0.075233\n",
       "5    6   0.068819  1.114386e-01  0.030272  0.066947\n",
       "6    7   0.054555  1.328645e-01  0.024137  0.059305\n",
       "7    8   0.053303  1.386086e-01  0.019803  0.052365\n",
       "8    9   0.047297  1.285343e-01  0.016612  0.046125\n",
       "9   10   0.035035  1.072730e-01  0.014184  0.040552\n",
       "10  11   0.032282  8.138968e-02  0.012286  0.035597\n",
       "11  12   0.031532  5.660562e-02  0.010772  0.031209\n",
       "12  13   0.027528  3.634022e-02  0.009540  0.027334\n",
       "13  14   0.022773  2.166362e-02  0.008523  0.023918\n",
       "14  15   0.018268  1.205344e-02  0.007672  0.020914\n",
       "16  16   0.016517  6.287277e-03  0.006952  0.018275\n",
       "15  17   0.017768  3.086634e-03  0.006336  0.015960\n",
       "18  18   0.011762  1.431146e-03  0.005804  0.013931\n",
       "19  19   0.010511  6.286397e-04  0.005342  0.012154\n",
       "17  20   0.012513  2.623272e-04  0.004937  0.010600\n",
       "20  21   0.007758  1.042546e-04  0.004580  0.009241\n",
       "21  22   0.007007  3.954978e-05  0.004263  0.008054\n",
       "22  23   0.006507  1.435118e-05  0.003981  0.007017\n",
       "23  24   0.004254  4.990544e-06  0.003728  0.006112\n",
       "24  25   0.004254  1.666016e-06  0.003500  0.005322\n",
       "25  26   0.004004  5.347827e-07  0.003294  0.004634\n",
       "26  27   0.003754  1.653046e-07  0.003107  0.004033\n",
       "28  28   0.003253  4.927180e-08  0.002937  0.003510\n",
       "27  29   0.003754  1.417986e-08  0.002782  0.003054\n",
       "29  30   0.002753  3.944773e-09  0.002639  0.002657\n",
       "31  31   0.002753  1.062018e-09  0.002508  0.002311\n",
       "32  32   0.002252  2.769830e-10  0.002388  0.002010\n",
       "30  33   0.002753  7.005041e-11  0.002277  0.001748\n",
       "41  34   0.000501  1.719504e-11  0.002173  0.001519\n",
       "34  35   0.001502  4.100214e-12  0.002078  0.001321\n",
       "37  36   0.001001  9.505511e-13  0.001989  0.001148\n",
       "40  37   0.000751  2.144101e-13  0.001906  0.000998\n",
       "42  38   0.000501  4.709047e-14  0.001828  0.000867\n",
       "48  39   0.000501  1.007720e-14  0.001756  0.000754\n",
       "36  40   0.001001  2.102574e-15  0.001688  0.000655\n",
       "38  41   0.001001  4.279951e-16  0.001624  0.000569\n",
       "35  42   0.001251  8.504738e-17  0.001565  0.000494\n",
       "47  43   0.000501  1.650684e-17  0.001508  0.000429\n",
       "33  44   0.001502  3.130997e-18  0.001455  0.000373\n",
       "39  45   0.000751  5.806863e-19  0.001405  0.000324\n",
       "43  46   0.000501  1.053550e-19  0.001358  0.000281\n",
       "45  47   0.000501  1.870806e-20  0.001313  0.000244\n",
       "51  50   0.000250  9.247741e-23  0.001192  0.000160\n",
       "44  56   0.000501  1.336812e-27  0.000999  0.000068\n",
       "50  63   0.000250  1.352079e-33  0.000831  0.000025\n",
       "52  65   0.000250  2.263871e-35  0.000791  0.000019\n",
       "53  72   0.000250  8.599752e-42  0.000674  0.000007\n",
       "46  73   0.000501  9.831833e-43  0.000660  0.000006\n",
       "49  75   0.000501  1.233912e-44  0.000633  0.000005"
      ]
     },
     "execution_count": 122,
     "metadata": {},
     "output_type": "execute_result"
    }
   ],
   "source": [
    "pdfs"
   ]
  },
  {
   "cell_type": "code",
   "execution_count": 123,
   "metadata": {
    "scrolled": false
   },
   "outputs": [
    {
     "data": {
      "text/plain": [
       "{'zt_poisson': 1.6968071876952764,\n",
       " 'pareto': 0.42102483245106875,\n",
       " 'nbinom': 0.014343052828380254}"
      ]
     },
     "execution_count": 123,
     "metadata": {},
     "output_type": "execute_result"
    }
   ],
   "source": [
    "kl_divs"
   ]
  },
  {
   "cell_type": "markdown",
   "metadata": {},
   "source": [
    "# Distributions"
   ]
  },
  {
   "cell_type": "code",
   "execution_count": 124,
   "metadata": {},
   "outputs": [
    {
     "data": {
      "image/png": "[encoded data removed]",
      "text/plain": [
       "<Figure size 432x288 with 1 Axes>"
      ]
     },
     "metadata": {},
     "output_type": "display_data"
    }
   ],
   "source": [
    "fig, ax = plt.subplots()\n",
    "sns.distplot(df.command_at_incident.value_counts(), ax = ax)\n",
    "ax.set_xlim([0, 1400])\n",
    "ax.set_xlabel('Compliants per Command')\n",
    "ax.set_ylabel('Relative Frequency')\n",
    "ax.set_title('Distribution of Complaints by Command')\n",
    "\n",
    "plt.show()"
   ]
  },
  {
   "cell_type": "code",
   "execution_count": 125,
   "metadata": {},
   "outputs": [
    {
     "data": {
      "image/png": "[encoded data removed]",
      "text/plain": [
       "<Figure size 432x288 with 1 Axes>"
      ]
     },
     "metadata": {},
     "output_type": "display_data"
    }
   ],
   "source": [
    "fig, ax = plt.subplots()\n",
    "sns.barplot(\n",
    "  x = 'year',\n",
    "  y = 'count',\n",
    "    data = df.year_received.value_counts().rename('count').reset_index().rename({\n",
    "  'index' : 'year'\n",
    "}, axis = 'columns'),\n",
    "  ax = ax,\n",
    ")\n",
    "plt.xticks(rotation=90)\n",
    "ax.set_xlabel('Year')\n",
    "ax.set_ylabel('Count')\n",
    "ax.set_title('Complaints by Year')\n",
    "\n",
    "plt.show()"
   ]
  },
  {
   "cell_type": "code",
   "execution_count": 126,
   "metadata": {},
   "outputs": [
    {
     "data": {
      "image/png": "[encoded data removed]",
      "text/plain": [
       "<Figure size 432x288 with 1 Axes>"
      ]
     },
     "metadata": {},
     "output_type": "display_data"
    },
    {
     "data": {
      "image/png": "[encoded data removed]",
      "text/plain": [
       "<Figure size 432x288 with 1 Axes>"
      ]
     },
     "metadata": {},
     "output_type": "display_data"
    },
    {
     "data": {
      "image/png": "[encoded data removed]",
      "text/plain": [
       "<Figure size 432x288 with 1 Axes>"
      ]
     },
     "metadata": {},
     "output_type": "display_data"
    }
   ],
   "source": [
    "def dist_plot(field):\n",
    "  fig, ax = plt.subplots()\n",
    "  sns.barplot(\n",
    "    x = field,\n",
    "    y = 'count',\n",
    "      data = df[field].value_counts().rename('count').reset_index().rename({\n",
    "    'index' : field\n",
    "  }, axis = 'columns'),\n",
    "    ax = ax,\n",
    "  )\n",
    "  plt.xticks(rotation=90)\n",
    "  ax.set_xlabel(field.title())\n",
    "  ax.set_ylabel('Count')\n",
    "  ax.set_title(f'Complaints by {field.title()}')\n",
    "\n",
    "  return fig, ax\n",
    "\n",
    "dist_plot('complainant_ethnicity')\n",
    "dist_plot('complainant_gender')\n",
    "dist_plot('complainant_age_incident')\n",
    "plt.show()"
   ]
  },
  {
   "cell_type": "code",
   "execution_count": 127,
   "metadata": {},
   "outputs": [
    {
     "data": {
      "text/plain": [
       "Index(['unique_mos_id', 'first_name', 'last_name', 'command_now',\n",
       "       'complaint_id', 'month_received', 'year_received', 'month_closed',\n",
       "       'year_closed', 'command_at_incident', 'rank_abbrev_incident',\n",
       "       'rank_abbrev_now', 'rank_now', 'rank_incident', 'mos_ethnicity',\n",
       "       'mos_gender', 'mos_age_incident', 'complainant_ethnicity',\n",
       "       'complainant_gender', 'complainant_age_incident', 'fado_type',\n",
       "       'allegation', 'precinct', 'contact_reason', 'outcome_description',\n",
       "       'board_disposition'],\n",
       "      dtype='object')"
      ]
     },
     "execution_count": 127,
     "metadata": {},
     "output_type": "execute_result"
    }
   ],
   "source": [
    "df.columns"
   ]
  },
  {
   "cell_type": "code",
   "execution_count": 128,
   "metadata": {},
   "outputs": [
    {
     "data": {
      "image/png": "[encoded data removed]",
      "text/plain": [
       "<Figure size 432x288 with 1 Axes>"
      ]
     },
     "metadata": {},
     "output_type": "display_data"
    }
   ],
   "source": [
    "df['disposition'] = df.board_disposition.map(\n",
    "  lambda s : s.split(' ')[0]\n",
    ")\n",
    "dist_plot('disposition')\n",
    "plt.show()"
   ]
  },
  {
   "cell_type": "code",
   "execution_count": 129,
   "metadata": {},
   "outputs": [],
   "source": [
    "df['months_to_resolve'] = \\\n",
    "  df.year_closed * 12 + df.month_closed - df.year_received * 12 - df.month_received"
   ]
  },
  {
   "cell_type": "code",
   "execution_count": 130,
   "metadata": {},
   "outputs": [
    {
     "data": {
      "image/png": "[encoded data removed]",
      "text/plain": [
       "<Figure size 432x288 with 1 Axes>"
      ]
     },
     "metadata": {},
     "output_type": "display_data"
    }
   ],
   "source": [
    "dist_plot('months_to_resolve')\n",
    "plt.show()"
   ]
  },
  {
   "cell_type": "code",
   "execution_count": null,
   "metadata": {},
   "outputs": [],
   "source": []
  }
 ],
 "metadata": {
  "kernelspec": {
   "display_name": "Synovium",
   "language": "python",
   "name": "synovium"
  },
  "language_info": {
   "codemirror_mode": {
    "name": "ipython",
    "version": 3
   },
   "file_extension": ".py",
   "mimetype": "text/x-python",
   "name": "python",
   "nbconvert_exporter": "python",
   "pygments_lexer": "ipython3",
   "version": "3.7.6"
  }
 },
 "nbformat": 4,
 "nbformat_minor": 2
}
