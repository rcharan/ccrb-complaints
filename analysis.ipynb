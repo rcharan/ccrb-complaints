{
 "cells": [
  {
   "cell_type": "markdown",
   "metadata": {},
   "source": [
    "Data Source: [ProPublica](https://www.propublica.org/datastore/dataset/civilian-complaints-against-new-york-city-police-officers)"
   ]
  },
  {
   "cell_type": "code",
   "execution_count": 65,
   "metadata": {},
   "outputs": [
    {
     "name": "stdout",
     "output_type": "stream",
     "text": [
      "The autoreload extension is already loaded. To reload it, use:\n",
      "  %reload_ext autoreload\n"
     ]
    }
   ],
   "source": [
    "%load_ext autoreload\n",
    "%autoreload 2"
   ]
  },
  {
   "cell_type": "code",
   "execution_count": 66,
   "metadata": {},
   "outputs": [],
   "source": [
    "import pandas as pd\n",
    "\n",
    "import numpy as np\n",
    "\n",
    "\n",
    "import seaborn as sns\n",
    "import matplotlib.pyplot as plt\n",
    "%matplotlib inline\n",
    "plt.ioff()\n",
    "sns.set()\n",
    "\n",
    "from functools import partial"
   ]
  },
  {
   "cell_type": "code",
   "execution_count": 67,
   "metadata": {},
   "outputs": [],
   "source": [
    "df = pd.read_csv('allegations_20200726939.csv')"
   ]
  },
  {
   "cell_type": "code",
   "execution_count": 68,
   "metadata": {},
   "outputs": [
    {
     "data": {
      "text/html": [
       "<div>\n",
       "<style scoped>\n",
       "    .dataframe tbody tr th:only-of-type {\n",
       "        vertical-align: middle;\n",
       "    }\n",
       "\n",
       "    .dataframe tbody tr th {\n",
       "        vertical-align: top;\n",
       "    }\n",
       "\n",
       "    .dataframe thead th {\n",
       "        text-align: right;\n",
       "    }\n",
       "</style>\n",
       "<table border=\"1\" class=\"dataframe\">\n",
       "  <thead>\n",
       "    <tr style=\"text-align: right;\">\n",
       "      <th></th>\n",
       "      <th>unique_mos_id</th>\n",
       "      <th>first_name</th>\n",
       "      <th>last_name</th>\n",
       "      <th>command_now</th>\n",
       "      <th>complaint_id</th>\n",
       "      <th>month_received</th>\n",
       "      <th>year_received</th>\n",
       "      <th>month_closed</th>\n",
       "      <th>year_closed</th>\n",
       "      <th>command_at_incident</th>\n",
       "      <th>...</th>\n",
       "      <th>mos_age_incident</th>\n",
       "      <th>complainant_ethnicity</th>\n",
       "      <th>complainant_gender</th>\n",
       "      <th>complainant_age_incident</th>\n",
       "      <th>fado_type</th>\n",
       "      <th>allegation</th>\n",
       "      <th>precinct</th>\n",
       "      <th>contact_reason</th>\n",
       "      <th>outcome_description</th>\n",
       "      <th>board_disposition</th>\n",
       "    </tr>\n",
       "  </thead>\n",
       "  <tbody>\n",
       "    <tr>\n",
       "      <th>1288</th>\n",
       "      <td>11229</td>\n",
       "      <td>Michal</td>\n",
       "      <td>Jalbrzykowski</td>\n",
       "      <td>090 PCT</td>\n",
       "      <td>40368</td>\n",
       "      <td>9</td>\n",
       "      <td>2018</td>\n",
       "      <td>7</td>\n",
       "      <td>2019</td>\n",
       "      <td>090 PCT</td>\n",
       "      <td>...</td>\n",
       "      <td>32</td>\n",
       "      <td>Black</td>\n",
       "      <td>Male</td>\n",
       "      <td>32.0</td>\n",
       "      <td>Discourtesy</td>\n",
       "      <td>Word</td>\n",
       "      <td>90.0</td>\n",
       "      <td>Report-dispute</td>\n",
       "      <td>Arrest - other violation/crime</td>\n",
       "      <td>Substantiated (Command Discipline B)</td>\n",
       "    </tr>\n",
       "    <tr>\n",
       "      <th>29399</th>\n",
       "      <td>6004</td>\n",
       "      <td>John</td>\n",
       "      <td>Gogarty</td>\n",
       "      <td>050 DET</td>\n",
       "      <td>9934</td>\n",
       "      <td>9</td>\n",
       "      <td>2005</td>\n",
       "      <td>6</td>\n",
       "      <td>2006</td>\n",
       "      <td>046 PCT</td>\n",
       "      <td>...</td>\n",
       "      <td>45</td>\n",
       "      <td>NaN</td>\n",
       "      <td>NaN</td>\n",
       "      <td>NaN</td>\n",
       "      <td>Discourtesy</td>\n",
       "      <td>Word</td>\n",
       "      <td>46.0</td>\n",
       "      <td>Report-gun possession/shots fired</td>\n",
       "      <td>Arrest - disorderly conduct</td>\n",
       "      <td>Exonerated</td>\n",
       "    </tr>\n",
       "    <tr>\n",
       "      <th>26786</th>\n",
       "      <td>36152</td>\n",
       "      <td>Andrew</td>\n",
       "      <td>Valenzano</td>\n",
       "      <td>WARRSEC</td>\n",
       "      <td>17513</td>\n",
       "      <td>2</td>\n",
       "      <td>2009</td>\n",
       "      <td>10</td>\n",
       "      <td>2009</td>\n",
       "      <td>041 PCT</td>\n",
       "      <td>...</td>\n",
       "      <td>34</td>\n",
       "      <td>Hispanic</td>\n",
       "      <td>Male</td>\n",
       "      <td>30.0</td>\n",
       "      <td>Abuse of Authority</td>\n",
       "      <td>Stop</td>\n",
       "      <td>41.0</td>\n",
       "      <td>PD suspected C/V of violation/crime - street</td>\n",
       "      <td>Arrest - other violation/crime</td>\n",
       "      <td>Exonerated</td>\n",
       "    </tr>\n",
       "    <tr>\n",
       "      <th>33002</th>\n",
       "      <td>9609</td>\n",
       "      <td>Douglas</td>\n",
       "      <td>Carr</td>\n",
       "      <td>077 DET</td>\n",
       "      <td>8709</td>\n",
       "      <td>1</td>\n",
       "      <td>2005</td>\n",
       "      <td>2</td>\n",
       "      <td>2006</td>\n",
       "      <td>077 PCT</td>\n",
       "      <td>...</td>\n",
       "      <td>31</td>\n",
       "      <td>NaN</td>\n",
       "      <td>NaN</td>\n",
       "      <td>NaN</td>\n",
       "      <td>Abuse of Authority</td>\n",
       "      <td>Question and/or stop</td>\n",
       "      <td>77.0</td>\n",
       "      <td>PD suspected C/V of violation/crime - street</td>\n",
       "      <td>No arrest made or summons issued</td>\n",
       "      <td>Exonerated</td>\n",
       "    </tr>\n",
       "    <tr>\n",
       "      <th>9303</th>\n",
       "      <td>19561</td>\n",
       "      <td>Michael</td>\n",
       "      <td>Greaney</td>\n",
       "      <td>DBQS</td>\n",
       "      <td>21141</td>\n",
       "      <td>7</td>\n",
       "      <td>2010</td>\n",
       "      <td>7</td>\n",
       "      <td>2011</td>\n",
       "      <td>BX IRT</td>\n",
       "      <td>...</td>\n",
       "      <td>25</td>\n",
       "      <td>Hispanic</td>\n",
       "      <td>Male</td>\n",
       "      <td>29.0</td>\n",
       "      <td>Abuse of Authority</td>\n",
       "      <td>Frisk</td>\n",
       "      <td>44.0</td>\n",
       "      <td>PD suspected C/V of violation/crime - street</td>\n",
       "      <td>Summons - other violation/crime</td>\n",
       "      <td>Unsubstantiated</td>\n",
       "    </tr>\n",
       "  </tbody>\n",
       "</table>\n",
       "<p>5 rows × 26 columns</p>\n",
       "</div>"
      ],
      "text/plain": [
       "       unique_mos_id first_name      last_name command_now  complaint_id  \\\n",
       "1288           11229     Michal  Jalbrzykowski     090 PCT         40368   \n",
       "29399           6004       John        Gogarty     050 DET          9934   \n",
       "26786          36152     Andrew      Valenzano     WARRSEC         17513   \n",
       "33002           9609    Douglas           Carr     077 DET          8709   \n",
       "9303           19561    Michael        Greaney        DBQS         21141   \n",
       "\n",
       "       month_received  year_received  month_closed  year_closed  \\\n",
       "1288                9           2018             7         2019   \n",
       "29399               9           2005             6         2006   \n",
       "26786               2           2009            10         2009   \n",
       "33002               1           2005             2         2006   \n",
       "9303                7           2010             7         2011   \n",
       "\n",
       "      command_at_incident  ... mos_age_incident complainant_ethnicity  \\\n",
       "1288              090 PCT  ...               32                 Black   \n",
       "29399             046 PCT  ...               45                   NaN   \n",
       "26786             041 PCT  ...               34              Hispanic   \n",
       "33002             077 PCT  ...               31                   NaN   \n",
       "9303               BX IRT  ...               25              Hispanic   \n",
       "\n",
       "      complainant_gender complainant_age_incident           fado_type  \\\n",
       "1288                Male                     32.0         Discourtesy   \n",
       "29399                NaN                      NaN         Discourtesy   \n",
       "26786               Male                     30.0  Abuse of Authority   \n",
       "33002                NaN                      NaN  Abuse of Authority   \n",
       "9303                Male                     29.0  Abuse of Authority   \n",
       "\n",
       "                 allegation  precinct  \\\n",
       "1288                   Word      90.0   \n",
       "29399                  Word      46.0   \n",
       "26786                  Stop      41.0   \n",
       "33002  Question and/or stop      77.0   \n",
       "9303                  Frisk      44.0   \n",
       "\n",
       "                                     contact_reason  \\\n",
       "1288                                 Report-dispute   \n",
       "29399             Report-gun possession/shots fired   \n",
       "26786  PD suspected C/V of violation/crime - street   \n",
       "33002  PD suspected C/V of violation/crime - street   \n",
       "9303   PD suspected C/V of violation/crime - street   \n",
       "\n",
       "                    outcome_description                     board_disposition  \n",
       "1288     Arrest - other violation/crime  Substantiated (Command Discipline B)  \n",
       "29399       Arrest - disorderly conduct                            Exonerated  \n",
       "26786    Arrest - other violation/crime                            Exonerated  \n",
       "33002  No arrest made or summons issued                            Exonerated  \n",
       "9303    Summons - other violation/crime                       Unsubstantiated  \n",
       "\n",
       "[5 rows x 26 columns]"
      ]
     },
     "execution_count": 68,
     "metadata": {},
     "output_type": "execute_result"
    }
   ],
   "source": [
    "df.sample(5, random_state = 42)"
   ]
  },
  {
   "cell_type": "markdown",
   "metadata": {},
   "source": [
    "# 1. Complaint Frequency\n",
    "Note: frequency-0 officers are truncated (do not appear in the dataset)"
   ]
  },
  {
   "cell_type": "code",
   "execution_count": 69,
   "metadata": {},
   "outputs": [
    {
     "data": {
      "image/png": "[encoded data removed]",
      "text/plain": [
       "<Figure size 432x288 with 1 Axes>"
      ]
     },
     "metadata": {},
     "output_type": "display_data"
    }
   ],
   "source": [
    "counts = df.unique_mos_id.value_counts()\n",
    "\n",
    "bins = range(max(counts) + 1 + 2)\n",
    "fig, ax = plt.subplots()\n",
    "sns.distplot(counts, norm_hist = False, kde = False, bins = bins, ax = ax)\n",
    "ax.set_xlabel('Number of Complaints')\n",
    "ax.set_ylabel('Frequency')\n",
    "ax.set_title('Frequency of Complaints')\n",
    "plt.show()"
   ]
  },
  {
   "cell_type": "markdown",
   "metadata": {},
   "source": [
    "## 1a. Zero–Truncated Poisson Distribution\n",
    "\n",
    "The simplest hypothesis is that every officer has an equal probability of having a complaint lodged against them, per unit time. This would leave to a Poisson distribution with PMF\n",
    "\n",
    "$$f(k;\\lambda) = \\frac{\\lambda^k e^{-\\lambda}}{k!}\\$$\n",
    "\n",
    "However, we do not observe officers with 0 complaints. This leads to a [Zero-Truncated Poisson](https://en.wikipedia.org/wiki/Zero-truncated_Poisson_distribution) distribution with PMF\n",
    "\n",
    "$$g(k; \\lambda) = P_f(k | k > 0) = \\frac{f(k; \\lambda)}{1 - f(0; \\lambda)} = \\frac{\\lambda^k e^{-\\lambda}}{k! ( 1 - e^{-\\lambda} )} = \\frac{\\lambda ^ k}{k!(e^\\lambda - 1)}$$\n",
    "\n",
    "and MLE $\\hat{\\lambda}$ satisfying\n",
    "\n",
    "$$\\frac{\\hat{\\lambda}}{1 - e^{-\\lambda}} = \\overline{x}$$\n",
    "\n",
    "Unless $\\lambda$ is small, this is close to $\\hat{\\lambda} = \\overline{x}$, the MLE for a regular Poisson distribution."
   ]
  },
  {
   "cell_type": "code",
   "execution_count": 70,
   "metadata": {},
   "outputs": [],
   "source": [
    "from models.zero_truncated_poisson import ZeroTruncatedPoisson\n",
    "\n",
    "model = ZeroTruncatedPoisson()\n",
    "model.fit(counts)"
   ]
  },
  {
   "cell_type": "code",
   "execution_count": 71,
   "metadata": {},
   "outputs": [],
   "source": [
    "from graphing import graph_dists"
   ]
  },
  {
   "cell_type": "code",
   "execution_count": 72,
   "metadata": {},
   "outputs": [
    {
     "data": {
      "image/png": "[encoded data removed]",
      "text/plain": [
       "<Figure size 432x288 with 1 Axes>"
      ]
     },
     "metadata": {},
     "output_type": "display_data"
    },
    {
     "name": "stdout",
     "output_type": "stream",
     "text": [
      "Log Likelihood: -4.739\n"
     ]
    }
   ],
   "source": [
    "x_max = max(counts) + 3\n",
    "xs, ys = model.plot(max_count = x_max, include_zero = True, normalize = True)\n",
    "\n",
    "fig, ax = graph_dists(counts, x_max, xs, ys)\n",
    "# It's pretty apparent that the model does not fit the data\n",
    "\n",
    "plt.show()\n",
    "print(f'Log Likelihood: {model.log_likelihood():.3f}')"
   ]
  },
  {
   "cell_type": "code",
   "execution_count": 73,
   "metadata": {},
   "outputs": [],
   "source": [
    "# Compute the Distributions to get the KL-Div\n",
    "\n",
    "from scipy.special import rel_entr as kl_div"
   ]
  },
  {
   "cell_type": "code",
   "execution_count": 74,
   "metadata": {},
   "outputs": [],
   "source": [
    "pdfs = counts.value_counts(normalize = True).reset_index().rename({\n",
    "  'index'         : 'k',\n",
    "  'unique_mos_id' : 'empirical',\n",
    "}, axis = 'columns').sort_values('k')\n",
    "\n",
    "pdfs['zt_poisson'] = pdfs.k.map(model.pmf)"
   ]
  },
  {
   "cell_type": "markdown",
   "metadata": {},
   "source": [
    "## 1b. The Pareto (Power Law) Distribution\n",
    "\n",
    "The Pareto Distribution is generated by a process where the \"rich get richer\" and is the genesis of the \"80/20\" rule (though the exact numbers may vary) "
   ]
  },
  {
   "cell_type": "code",
   "execution_count": 75,
   "metadata": {},
   "outputs": [],
   "source": [
    "from scipy.stats import pareto"
   ]
  },
  {
   "cell_type": "code",
   "execution_count": 76,
   "metadata": {},
   "outputs": [
    {
     "name": "stderr",
     "output_type": "stream",
     "text": [
      "/Users/rcharan/anaconda3/envs/synovium/lib/python3.7/site-packages/scipy/stats/_distn_infrastructure.py:2407: RuntimeWarning: invalid value encountered in double_scalars\n",
      "  Lhat = muhat - Shat*mu\n"
     ]
    },
    {
     "data": {
      "text/plain": [
       "0.5756621418416998"
      ]
     },
     "execution_count": 76,
     "metadata": {},
     "output_type": "execute_result"
    }
   ],
   "source": [
    "b, loc, scale = pareto.fit(counts, floc = 0)\n",
    "model = pareto(b, loc, scale)\n",
    "b"
   ]
  },
  {
   "cell_type": "code",
   "execution_count": 77,
   "metadata": {},
   "outputs": [
    {
     "data": {
      "image/png": "[encoded data removed]",
      "text/plain": [
       "<Figure size 432x288 with 1 Axes>"
      ]
     },
     "metadata": {},
     "output_type": "display_data"
    }
   ],
   "source": [
    "x_max = max(counts) + 1 + 2\n",
    "\n",
    "xs = np.arange(1, x_max)\n",
    "ys = model.pdf(xs)\n",
    "\n",
    "fig, ax = graph_dists(counts, x_max, xs, ys)\n",
    "\n",
    "plt.show()"
   ]
  },
  {
   "cell_type": "code",
   "execution_count": 78,
   "metadata": {},
   "outputs": [],
   "source": [
    "def logpmf(model, k):\n",
    "  return log(model.cdf(k+1) - model.cdf(k))\n",
    "\n",
    "pareto_logpmf = partial(logpmf, model)\n",
    "log_likelihood = counts.map(pareto_logpmf).mean()"
   ]
  },
  {
   "cell_type": "code",
   "execution_count": 79,
   "metadata": {},
   "outputs": [
    {
     "name": "stdout",
     "output_type": "stream",
     "text": [
      "Log Likelihood: -3.463\n"
     ]
    }
   ],
   "source": [
    "print(f'Log Likelihood: {log_likelihood:.3f}')"
   ]
  },
  {
   "cell_type": "code",
   "execution_count": 80,
   "metadata": {},
   "outputs": [],
   "source": [
    "pdfs['pareto'] = pdfs.k.map(lambda k : exp(pareto_logpmf(k)))"
   ]
  },
  {
   "cell_type": "markdown",
   "metadata": {},
   "source": [
    "# 1c. Negative Binomial Model\n",
    "\n",
    "Modeling the number of failures before a success in Bernoulli trials. In this context, the theory that with probability $p$ an officer will be reprimanded sufficiently to stop receiving further complaints, and that this will occur $r$ complaints.\n",
    "\n",
    "Later modeling will take the outcome measure into account."
   ]
  },
  {
   "cell_type": "code",
   "execution_count": 81,
   "metadata": {},
   "outputs": [],
   "source": [
    "from scipy.stats import nbinom\n",
    "from statsmodels.base.model import GenericLikelihoodModel\n",
    "from scipy.optimize import minimize"
   ]
  },
  {
   "cell_type": "code",
   "execution_count": 82,
   "metadata": {},
   "outputs": [],
   "source": [
    "def log_likelihood_nbinom(counts, r, p, loc):\n",
    "  model = nbinom(r, p, loc = loc)\n",
    "  log_likelihood = model.logpmf(counts)\n",
    "  return -log_likelihood.sum()"
   ]
  },
  {
   "cell_type": "code",
   "execution_count": 83,
   "metadata": {},
   "outputs": [],
   "source": [
    "log_likelihood = lambda params : log_likelihood_nbinom(counts, *params, 1)"
   ]
  },
  {
   "cell_type": "code",
   "execution_count": 84,
   "metadata": {},
   "outputs": [
    {
     "data": {
      "text/plain": [
       "62.06770750725695"
      ]
     },
     "execution_count": 84,
     "metadata": {},
     "output_type": "execute_result"
    }
   ],
   "source": [
    "counts.var()"
   ]
  },
  {
   "cell_type": "code",
   "execution_count": 85,
   "metadata": {},
   "outputs": [
    {
     "name": "stdout",
     "output_type": "stream",
     "text": [
      "1.297221625905947 0.8655041698314406\n"
     ]
    }
   ],
   "source": [
    "# guess with method of moments. But this doesn't work\n",
    "e_x = counts.mean()\n",
    "v_x = counts.var()\n",
    "\n",
    "r = e_x ** 2 / (v_x - e_x)\n",
    "p = 1 - e_x / v_x\n",
    "print(r, p)\n",
    "\n",
    "r, p = 1.3, 0.1 # Nelder-Mead gets us close enough for convergence"
   ]
  },
  {
   "cell_type": "code",
   "execution_count": 86,
   "metadata": {},
   "outputs": [],
   "source": [
    "guess = np.array([1.2, 0.1]) # Using Nelder-Mean\n",
    "result = minimize(log_likelihood, guess, method = 'tnc')"
   ]
  },
  {
   "cell_type": "code",
   "execution_count": 87,
   "metadata": {},
   "outputs": [
    {
     "data": {
      "text/plain": [
       "     fun: 12213.55258003504\n",
       "     jac: array([ 0.0001819 , -0.00400178])\n",
       " message: 'Converged (|f_n-f_(n-1)| ~= 0)'\n",
       "    nfev: 38\n",
       "     nit: 9\n",
       "  status: 1\n",
       " success: True\n",
       "       x: array([1.13902486, 0.13421018])"
      ]
     },
     "execution_count": 87,
     "metadata": {},
     "output_type": "execute_result"
    }
   ],
   "source": [
    "result"
   ]
  },
  {
   "cell_type": "code",
   "execution_count": 88,
   "metadata": {},
   "outputs": [],
   "source": [
    "r, p = result.x"
   ]
  },
  {
   "cell_type": "code",
   "execution_count": 89,
   "metadata": {},
   "outputs": [],
   "source": [
    "model = nbinom(r, p, loc = 1)"
   ]
  },
  {
   "cell_type": "code",
   "execution_count": 90,
   "metadata": {},
   "outputs": [
    {
     "data": {
      "image/png": "[encoded data removed]",
      "text/plain": [
       "<Figure size 432x288 with 1 Axes>"
      ]
     },
     "metadata": {},
     "output_type": "display_data"
    }
   ],
   "source": [
    "x_max = max(counts) + 1 + 2\n",
    "\n",
    "xs = np.arange(1, x_max)\n",
    "ys = model.pmf(xs)\n",
    "\n",
    "graph_dists(counts, x_max, xs, ys)\n",
    "\n",
    "plt.show()"
   ]
  },
  {
   "cell_type": "code",
   "execution_count": null,
   "metadata": {},
   "outputs": [],
   "source": [
    "log_likelihood = counts.map(model.logpmf).mean()\n",
    "print(f'Log Likelihood: {log_likelihood:.3f}')"
   ]
  },
  {
   "cell_type": "code",
   "execution_count": null,
   "metadata": {},
   "outputs": [],
   "source": [
    "pdfs['nbinom'] = pdfs.k.map(model.pmf)"
   ]
  },
  {
   "cell_type": "markdown",
   "metadata": {},
   "source": [
    "### 1d: Log Likelihood of the Empirical PMF"
   ]
  },
  {
   "cell_type": "code",
   "execution_count": null,
   "metadata": {},
   "outputs": [],
   "source": [
    "log_likelihood = counts.reset_index().merge(\n",
    "  counts.value_counts(normalize = True).rename('pmf'),\n",
    "  left_on = 'unique_mos_id',\n",
    "  right_index = True,\n",
    "  validate = 'm:1'\n",
    ")\n",
    "log_pmf = log(log_likelihood.pmf)\n",
    "\n",
    "log_pmf.mean()"
   ]
  },
  {
   "cell_type": "markdown",
   "metadata": {},
   "source": [
    "### 1e: KL-Div"
   ]
  },
  {
   "cell_type": "code",
   "execution_count": null,
   "metadata": {},
   "outputs": [],
   "source": [
    "pdfs.columns"
   ]
  },
  {
   "cell_type": "code",
   "execution_count": null,
   "metadata": {},
   "outputs": [],
   "source": [
    "model_names = ['zt_poisson', 'pareto', 'nbinom']\n",
    "\n",
    "divs = map(lambda col : \n",
    "     kl_div(pdfs.empirical, pdfs[col]).sum(),\n",
    "  model_names\n",
    ")\n",
    "\n",
    "kl_divs = dict(zip(model_names, divs))"
   ]
  },
  {
   "cell_type": "code",
   "execution_count": null,
   "metadata": {},
   "outputs": [],
   "source": [
    "pdfs"
   ]
  },
  {
   "cell_type": "code",
   "execution_count": null,
   "metadata": {
    "scrolled": false
   },
   "outputs": [],
   "source": [
    "kl_divs"
   ]
  },
  {
   "cell_type": "markdown",
   "metadata": {},
   "source": [
    "# Distributions"
   ]
  },
  {
   "cell_type": "code",
   "execution_count": null,
   "metadata": {},
   "outputs": [],
   "source": [
    "fig, ax = plt.subplots()\n",
    "sns.distplot(df.command_at_incident.value_counts(), ax = ax)\n",
    "ax.set_xlim([0, 1400])\n",
    "ax.set_xlabel('Compliants per Command')\n",
    "ax.set_ylabel('Relative Frequency')\n",
    "ax.set_title('Distribution of Complaints by Command')\n",
    "\n",
    "plt.show()"
   ]
  },
  {
   "cell_type": "code",
   "execution_count": null,
   "metadata": {},
   "outputs": [],
   "source": [
    "fig, ax = plt.subplots()\n",
    "sns.barplot(\n",
    "  x = 'year',\n",
    "  y = 'count',\n",
    "    data = df.year_received.value_counts().rename('count').reset_index().rename({\n",
    "  'index' : 'year'\n",
    "}, axis = 'columns'),\n",
    "  ax = ax,\n",
    ")\n",
    "plt.xticks(rotation=90)\n",
    "ax.set_xlabel('Year')\n",
    "ax.set_ylabel('Count')\n",
    "ax.set_title('Complaints by Year')\n",
    "\n",
    "plt.show()"
   ]
  },
  {
   "cell_type": "code",
   "execution_count": null,
   "metadata": {},
   "outputs": [],
   "source": [
    "def dist_plot(field):\n",
    "  fig, ax = plt.subplots()\n",
    "  sns.barplot(\n",
    "    x = field,\n",
    "    y = 'count',\n",
    "      data = df[field].value_counts().rename('count').reset_index().rename({\n",
    "    'index' : field\n",
    "  }, axis = 'columns'),\n",
    "    ax = ax,\n",
    "  )\n",
    "  plt.xticks(rotation=90)\n",
    "  ax.set_xlabel(field.title())\n",
    "  ax.set_ylabel('Count')\n",
    "  ax.set_title(f'Complaints by {field.title()}')\n",
    "\n",
    "  return fig, ax\n",
    "\n",
    "dist_plot('complainant_ethnicity')\n",
    "dist_plot('complainant_gender')\n",
    "dist_plot('complainant_age_incident')\n",
    "plt.show()"
   ]
  },
  {
   "cell_type": "code",
   "execution_count": null,
   "metadata": {},
   "outputs": [],
   "source": [
    "df.columns"
   ]
  },
  {
   "cell_type": "code",
   "execution_count": null,
   "metadata": {},
   "outputs": [],
   "source": [
    "df['disposition'] = df.board_disposition.map(\n",
    "  lambda s : s.split(' ')[0]\n",
    ")\n",
    "dist_plot('disposition')\n",
    "plt.show()"
   ]
  },
  {
   "cell_type": "code",
   "execution_count": null,
   "metadata": {},
   "outputs": [],
   "source": [
    "df['months_to_resolve'] = \\\n",
    "  df.year_closed * 12 + df.month_closed - df.year_received * 12 - df.month_received"
   ]
  },
  {
   "cell_type": "code",
   "execution_count": null,
   "metadata": {},
   "outputs": [],
   "source": [
    "dist_plot('months_to_resolve')\n",
    "plt.show()"
   ]
  },
  {
   "cell_type": "code",
   "execution_count": null,
   "metadata": {},
   "outputs": [],
   "source": []
  }
 ],
 "metadata": {
  "kernelspec": {
   "display_name": "Synovium",
   "language": "python",
   "name": "synovium"
  },
  "language_info": {
   "codemirror_mode": {
    "name": "ipython",
    "version": 3
   },
   "file_extension": ".py",
   "mimetype": "text/x-python",
   "name": "python",
   "nbconvert_exporter": "python",
   "pygments_lexer": "ipython3",
   "version": "3.7.6"
  }
 },
 "nbformat": 4,
 "nbformat_minor": 2
}
