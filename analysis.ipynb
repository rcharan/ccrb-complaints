{
 "cells": [
  {
   "cell_type": "code",
   "execution_count": 2,
   "metadata": {},
   "outputs": [],
   "source": [
    "import pandas as pd"
   ]
  },
  {
   "cell_type": "code",
   "execution_count": 3,
   "metadata": {},
   "outputs": [],
   "source": [
    "df = pd.read_csv('allegations_20200726939.csv')"
   ]
  },
  {
   "cell_type": "code",
   "execution_count": 4,
   "metadata": {},
   "outputs": [
    {
     "data": {
      "text/plain": [
       "33358"
      ]
     },
     "execution_count": 4,
     "metadata": {},
     "output_type": "execute_result"
    }
   ],
   "source": [
    "len(df)"
   ]
  },
  {
   "cell_type": "code",
   "execution_count": 7,
   "metadata": {},
   "outputs": [
    {
     "data": {
      "text/html": [
       "<div>\n",
       "<style scoped>\n",
       "    .dataframe tbody tr th:only-of-type {\n",
       "        vertical-align: middle;\n",
       "    }\n",
       "\n",
       "    .dataframe tbody tr th {\n",
       "        vertical-align: top;\n",
       "    }\n",
       "\n",
       "    .dataframe thead th {\n",
       "        text-align: right;\n",
       "    }\n",
       "</style>\n",
       "<table border=\"1\" class=\"dataframe\">\n",
       "  <thead>\n",
       "    <tr style=\"text-align: right;\">\n",
       "      <th></th>\n",
       "      <th>unique_mos_id</th>\n",
       "      <th>first_name</th>\n",
       "      <th>last_name</th>\n",
       "      <th>command_now</th>\n",
       "      <th>complaint_id</th>\n",
       "      <th>month_received</th>\n",
       "      <th>year_received</th>\n",
       "      <th>month_closed</th>\n",
       "      <th>year_closed</th>\n",
       "      <th>command_at_incident</th>\n",
       "      <th>...</th>\n",
       "      <th>mos_age_incident</th>\n",
       "      <th>complainant_ethnicity</th>\n",
       "      <th>complainant_gender</th>\n",
       "      <th>complainant_age_incident</th>\n",
       "      <th>fado_type</th>\n",
       "      <th>allegation</th>\n",
       "      <th>precinct</th>\n",
       "      <th>contact_reason</th>\n",
       "      <th>outcome_description</th>\n",
       "      <th>board_disposition</th>\n",
       "    </tr>\n",
       "  </thead>\n",
       "  <tbody>\n",
       "    <tr>\n",
       "      <th>7364</th>\n",
       "      <td>18612</td>\n",
       "      <td>Ricardo</td>\n",
       "      <td>Bocachica</td>\n",
       "      <td>DB CEIS</td>\n",
       "      <td>12983</td>\n",
       "      <td>2</td>\n",
       "      <td>2007</td>\n",
       "      <td>5</td>\n",
       "      <td>2008</td>\n",
       "      <td>NARCBBX</td>\n",
       "      <td>...</td>\n",
       "      <td>29</td>\n",
       "      <td>Hispanic</td>\n",
       "      <td>Male</td>\n",
       "      <td>23.0</td>\n",
       "      <td>Force</td>\n",
       "      <td>Physical force</td>\n",
       "      <td>52.0</td>\n",
       "      <td>PD suspected C/V of violation/crime - street</td>\n",
       "      <td>Arrest - assault (against a PO)</td>\n",
       "      <td>Exonerated</td>\n",
       "    </tr>\n",
       "    <tr>\n",
       "      <th>4085</th>\n",
       "      <td>15375</td>\n",
       "      <td>Louis</td>\n",
       "      <td>Pepe</td>\n",
       "      <td>121 DET</td>\n",
       "      <td>7630</td>\n",
       "      <td>5</td>\n",
       "      <td>2004</td>\n",
       "      <td>6</td>\n",
       "      <td>2005</td>\n",
       "      <td>063 DET</td>\n",
       "      <td>...</td>\n",
       "      <td>31</td>\n",
       "      <td>Black</td>\n",
       "      <td>Male</td>\n",
       "      <td>20.0</td>\n",
       "      <td>Abuse of Authority</td>\n",
       "      <td>Frisk</td>\n",
       "      <td>63.0</td>\n",
       "      <td>Report-dispute</td>\n",
       "      <td>Arrest - other violation/crime</td>\n",
       "      <td>Unsubstantiated</td>\n",
       "    </tr>\n",
       "    <tr>\n",
       "      <th>32795</th>\n",
       "      <td>9355</td>\n",
       "      <td>Adnan</td>\n",
       "      <td>Radoncic</td>\n",
       "      <td>075 PCT</td>\n",
       "      <td>24371</td>\n",
       "      <td>10</td>\n",
       "      <td>2011</td>\n",
       "      <td>4</td>\n",
       "      <td>2013</td>\n",
       "      <td>PBBN</td>\n",
       "      <td>...</td>\n",
       "      <td>32</td>\n",
       "      <td>Unknown</td>\n",
       "      <td>Male</td>\n",
       "      <td>26.0</td>\n",
       "      <td>Abuse of Authority</td>\n",
       "      <td>Stop</td>\n",
       "      <td>75.0</td>\n",
       "      <td>C/V telephoned PCT</td>\n",
       "      <td>Arrest - other violation/crime</td>\n",
       "      <td>Exonerated</td>\n",
       "    </tr>\n",
       "    <tr>\n",
       "      <th>29986</th>\n",
       "      <td>6482</td>\n",
       "      <td>Frank</td>\n",
       "      <td>Bulzoni</td>\n",
       "      <td>060 PCT</td>\n",
       "      <td>15668</td>\n",
       "      <td>4</td>\n",
       "      <td>2008</td>\n",
       "      <td>4</td>\n",
       "      <td>2009</td>\n",
       "      <td>071 PCT</td>\n",
       "      <td>...</td>\n",
       "      <td>33</td>\n",
       "      <td>Black</td>\n",
       "      <td>Male</td>\n",
       "      <td>35.0</td>\n",
       "      <td>Force</td>\n",
       "      <td>Physical force</td>\n",
       "      <td>71.0</td>\n",
       "      <td>C/V intervened on behalf of/observed encounter...</td>\n",
       "      <td>Summons - disorderly conduct</td>\n",
       "      <td>Exonerated</td>\n",
       "    </tr>\n",
       "    <tr>\n",
       "      <th>17354</th>\n",
       "      <td>25339</td>\n",
       "      <td>Essence</td>\n",
       "      <td>Jackson</td>\n",
       "      <td>NARCBBS</td>\n",
       "      <td>37739</td>\n",
       "      <td>8</td>\n",
       "      <td>2017</td>\n",
       "      <td>12</td>\n",
       "      <td>2017</td>\n",
       "      <td>NARCBBS</td>\n",
       "      <td>...</td>\n",
       "      <td>39</td>\n",
       "      <td>NaN</td>\n",
       "      <td>NaN</td>\n",
       "      <td>NaN</td>\n",
       "      <td>Abuse of Authority</td>\n",
       "      <td>Premises entered and/or searched</td>\n",
       "      <td>60.0</td>\n",
       "      <td>Execution of search warrant</td>\n",
       "      <td>Arrest - other violation/crime</td>\n",
       "      <td>Exonerated</td>\n",
       "    </tr>\n",
       "  </tbody>\n",
       "</table>\n",
       "<p>5 rows × 26 columns</p>\n",
       "</div>"
      ],
      "text/plain": [
       "       unique_mos_id first_name  last_name command_now  complaint_id  \\\n",
       "7364           18612    Ricardo  Bocachica     DB CEIS         12983   \n",
       "4085           15375      Louis       Pepe     121 DET          7630   \n",
       "32795           9355      Adnan   Radoncic     075 PCT         24371   \n",
       "29986           6482      Frank    Bulzoni     060 PCT         15668   \n",
       "17354          25339    Essence    Jackson     NARCBBS         37739   \n",
       "\n",
       "       month_received  year_received  month_closed  year_closed  \\\n",
       "7364                2           2007             5         2008   \n",
       "4085                5           2004             6         2005   \n",
       "32795              10           2011             4         2013   \n",
       "29986               4           2008             4         2009   \n",
       "17354               8           2017            12         2017   \n",
       "\n",
       "      command_at_incident  ... mos_age_incident complainant_ethnicity  \\\n",
       "7364              NARCBBX  ...               29              Hispanic   \n",
       "4085              063 DET  ...               31                 Black   \n",
       "32795                PBBN  ...               32               Unknown   \n",
       "29986             071 PCT  ...               33                 Black   \n",
       "17354             NARCBBS  ...               39                   NaN   \n",
       "\n",
       "      complainant_gender complainant_age_incident           fado_type  \\\n",
       "7364                Male                     23.0               Force   \n",
       "4085                Male                     20.0  Abuse of Authority   \n",
       "32795               Male                     26.0  Abuse of Authority   \n",
       "29986               Male                     35.0               Force   \n",
       "17354                NaN                      NaN  Abuse of Authority   \n",
       "\n",
       "                             allegation  precinct  \\\n",
       "7364                     Physical force      52.0   \n",
       "4085                              Frisk      63.0   \n",
       "32795                              Stop      75.0   \n",
       "29986                    Physical force      71.0   \n",
       "17354  Premises entered and/or searched      60.0   \n",
       "\n",
       "                                          contact_reason  \\\n",
       "7364        PD suspected C/V of violation/crime - street   \n",
       "4085                                      Report-dispute   \n",
       "32795                                 C/V telephoned PCT   \n",
       "29986  C/V intervened on behalf of/observed encounter...   \n",
       "17354                        Execution of search warrant   \n",
       "\n",
       "                   outcome_description  board_disposition  \n",
       "7364   Arrest - assault (against a PO)         Exonerated  \n",
       "4085    Arrest - other violation/crime    Unsubstantiated  \n",
       "32795   Arrest - other violation/crime         Exonerated  \n",
       "29986     Summons - disorderly conduct         Exonerated  \n",
       "17354   Arrest - other violation/crime         Exonerated  \n",
       "\n",
       "[5 rows x 26 columns]"
      ]
     },
     "execution_count": 7,
     "metadata": {},
     "output_type": "execute_result"
    }
   ],
   "source": [
    "df.sample(5)"
   ]
  },
  {
   "cell_type": "code",
   "execution_count": 8,
   "metadata": {},
   "outputs": [
    {
     "data": {
      "text/plain": [
       "1985"
      ]
     },
     "execution_count": 8,
     "metadata": {},
     "output_type": "execute_result"
    }
   ],
   "source": [
    "df.year_received.min()"
   ]
  },
  {
   "cell_type": "code",
   "execution_count": 9,
   "metadata": {},
   "outputs": [
    {
     "data": {
      "text/plain": [
       "2020"
      ]
     },
     "execution_count": 9,
     "metadata": {},
     "output_type": "execute_result"
    }
   ],
   "source": [
    "df.year_received.max()"
   ]
  },
  {
   "cell_type": "code",
   "execution_count": 15,
   "metadata": {},
   "outputs": [],
   "source": [
    "counts = df.unique_mos_id.value_counts()"
   ]
  },
  {
   "cell_type": "code",
   "execution_count": 10,
   "metadata": {},
   "outputs": [],
   "source": [
    "import seaborn as sns\n",
    "import matplotlib.pyplot as plt\n",
    "%matplotlib inline\n",
    "plt.ioff()\n",
    "sns.set()"
   ]
  },
  {
   "cell_type": "code",
   "execution_count": 18,
   "metadata": {},
   "outputs": [
    {
     "data": {
      "text/plain": [
       "<matplotlib.axes._subplots.AxesSubplot at 0x1a244e59e8>"
      ]
     },
     "execution_count": 18,
     "metadata": {},
     "output_type": "execute_result"
    },
    {
     "data": {
      "image/png": "[encoded data removed]",
      "text/plain": [
       "<Figure size 432x288 with 1 Axes>"
      ]
     },
     "metadata": {
      "needs_background": "light"
     },
     "output_type": "display_data"
    }
   ],
   "source": [
    "sns.distplot(counts, norm_hist = False, kde = False)"
   ]
  }
 ],
 "metadata": {
  "kernelspec": {
   "display_name": "Python 3",
   "language": "python",
   "name": "python3"
  },
  "language_info": {
   "codemirror_mode": {
    "name": "ipython",
    "version": 3
   },
   "file_extension": ".py",
   "mimetype": "text/x-python",
   "name": "python",
   "nbconvert_exporter": "python",
   "pygments_lexer": "ipython3",
   "version": "3.7.3"
  }
 },
 "nbformat": 4,
 "nbformat_minor": 2
}
